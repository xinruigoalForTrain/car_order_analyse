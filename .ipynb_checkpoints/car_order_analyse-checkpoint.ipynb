{
 "cells": [
  {
   "cell_type": "code",
   "execution_count": 1,
   "metadata": {},
   "outputs": [],
   "source": [
    "import numpy as np\n",
    "import pandas as pd\n",
    "from matplotlib import pyplot as plt\n",
    "import csv\n",
    "import requests\n",
    "\n",
    "import datetime\n",
    "import time\n",
    "from chinese_calendar import is_holiday\n",
    "import calendar\n",
    "\n",
    "from pandas.api.types import CategoricalDtype"
   ]
  },
  {
   "cell_type": "code",
   "execution_count": 2,
   "metadata": {},
   "outputs": [],
   "source": [
    "%matplotlib inline"
   ]
  },
  {
   "cell_type": "code",
   "execution_count": 3,
   "metadata": {},
   "outputs": [],
   "source": [
    "df_user_order_detail = pd.read_csv(r'../input/car8865/用户基础数据.csv',\n",
    "                              dtype={'trade_order_id':object,'uid':object,'gid':object,'passenger_phone':object,'platform':object,\n",
    "                                    'service_type':int,'service_type_name':object,'order_status':int,'order_status_name':object,\n",
    "                                    'order_day':object,'book_day':object,'order_car_type_id':int,'order_car_type_name':object,\n",
    "                                    'city_code':object,'city_name':object,'channel_id':int,'channel_name':object,\n",
    "                                    'first_token_driver_taken_type':object,'first_token_driver_taken_type':object,'order_car_type_id':int,\n",
    "                                     'order_car_type_name':object,'source_type':int,'source_type_name':object},encoding='utf-8')"
   ]
  },
  {
   "cell_type": "code",
   "execution_count": 4,
   "metadata": {},
   "outputs": [
    {
     "data": {
      "text/html": [
       "<div>\n",
       "<style scoped>\n",
       "    .dataframe tbody tr th:only-of-type {\n",
       "        vertical-align: middle;\n",
       "    }\n",
       "\n",
       "    .dataframe tbody tr th {\n",
       "        vertical-align: top;\n",
       "    }\n",
       "\n",
       "    .dataframe thead th {\n",
       "        text-align: right;\n",
       "    }\n",
       "</style>\n",
       "<table border=\"1\" class=\"dataframe\">\n",
       "  <thead>\n",
       "    <tr style=\"text-align: right;\">\n",
       "      <th></th>\n",
       "      <th>trade_order_id</th>\n",
       "      <th>uid</th>\n",
       "      <th>gid</th>\n",
       "      <th>passenger_phone</th>\n",
       "      <th>platform</th>\n",
       "      <th>service_type</th>\n",
       "      <th>service_type_name</th>\n",
       "      <th>order_status</th>\n",
       "      <th>order_status_name</th>\n",
       "      <th>order_day</th>\n",
       "      <th>...</th>\n",
       "      <th>city_code</th>\n",
       "      <th>city_name</th>\n",
       "      <th>channel_id</th>\n",
       "      <th>channel_name</th>\n",
       "      <th>first_taken_driver_taken_type</th>\n",
       "      <th>first_taken_driver_taken_type_name</th>\n",
       "      <th>order_car_type_id.1</th>\n",
       "      <th>order_car_type_name.1</th>\n",
       "      <th>source_type</th>\n",
       "      <th>source_type_name</th>\n",
       "    </tr>\n",
       "  </thead>\n",
       "  <tbody>\n",
       "    <tr>\n",
       "      <td>0</td>\n",
       "      <td>E181619485232</td>\n",
       "      <td>868385039047457</td>\n",
       "      <td>BB7C5279-95E1-DA88-EC0D-9A358E56AB73</td>\n",
       "      <td>186VU265589</td>\n",
       "      <td>Q</td>\n",
       "      <td>3</td>\n",
       "      <td>城市交通（时租）</td>\n",
       "      <td>7</td>\n",
       "      <td>已确认款项</td>\n",
       "      <td>2018-08-11</td>\n",
       "      <td>...</td>\n",
       "      <td>sanya</td>\n",
       "      <td>三亚</td>\n",
       "      <td>60</td>\n",
       "      <td>Android</td>\n",
       "      <td>100</td>\n",
       "      <td>OTA司机接单</td>\n",
       "      <td>99</td>\n",
       "      <td>出租车</td>\n",
       "      <td>12</td>\n",
       "      <td>OTA</td>\n",
       "    </tr>\n",
       "    <tr>\n",
       "      <td>1</td>\n",
       "      <td>E181645360215</td>\n",
       "      <td>E7663F36-6C35-4DDA-BEB3-2897F4ED35BC</td>\n",
       "      <td>69093625-85FA-A7B7-F485-0C8AB5404A88</td>\n",
       "      <td>139svlo3695</td>\n",
       "      <td>Q</td>\n",
       "      <td>3</td>\n",
       "      <td>城市交通（时租）</td>\n",
       "      <td>7</td>\n",
       "      <td>已确认款项</td>\n",
       "      <td>2018-09-06</td>\n",
       "      <td>...</td>\n",
       "      <td>shanghai_city</td>\n",
       "      <td>上海</td>\n",
       "      <td>80</td>\n",
       "      <td>iPhone</td>\n",
       "      <td>100</td>\n",
       "      <td>OTA司机接单</td>\n",
       "      <td>5</td>\n",
       "      <td>商务型</td>\n",
       "      <td>12</td>\n",
       "      <td>OTA</td>\n",
       "    </tr>\n",
       "    <tr>\n",
       "      <td>2</td>\n",
       "      <td>E181680198260</td>\n",
       "      <td>866229036251187</td>\n",
       "      <td>9AA77171-6B71-0946-0D7A-A21D4DCE2873</td>\n",
       "      <td>186r8ar1007</td>\n",
       "      <td>Q</td>\n",
       "      <td>3</td>\n",
       "      <td>城市交通（时租）</td>\n",
       "      <td>7</td>\n",
       "      <td>已确认款项</td>\n",
       "      <td>2018-10-11</td>\n",
       "      <td>...</td>\n",
       "      <td>wuhan</td>\n",
       "      <td>武汉</td>\n",
       "      <td>60</td>\n",
       "      <td>Android</td>\n",
       "      <td>100</td>\n",
       "      <td>OTA司机接单</td>\n",
       "      <td>99</td>\n",
       "      <td>出租车</td>\n",
       "      <td>12</td>\n",
       "      <td>OTA</td>\n",
       "    </tr>\n",
       "    <tr>\n",
       "      <td>3</td>\n",
       "      <td>E181781813380</td>\n",
       "      <td>866693026884317</td>\n",
       "      <td>0EC31567-3910-FA5F-4B13-B1C8FB262628</td>\n",
       "      <td>138gNTQ9157</td>\n",
       "      <td>Q</td>\n",
       "      <td>3</td>\n",
       "      <td>城市交通（时租）</td>\n",
       "      <td>8</td>\n",
       "      <td>取消</td>\n",
       "      <td>2019-01-20</td>\n",
       "      <td>...</td>\n",
       "      <td>nanjing</td>\n",
       "      <td>南京</td>\n",
       "      <td>60</td>\n",
       "      <td>Android</td>\n",
       "      <td>100</td>\n",
       "      <td>OTA司机接单</td>\n",
       "      <td>99</td>\n",
       "      <td>出租车</td>\n",
       "      <td>12</td>\n",
       "      <td>OTA</td>\n",
       "    </tr>\n",
       "    <tr>\n",
       "      <td>4</td>\n",
       "      <td>E181787631459</td>\n",
       "      <td>273ECCB0-AA83-4766-8013-C2D22DF0D6A0</td>\n",
       "      <td>97FE372C-B013-A68E-7A17-A44FEAF7E46A</td>\n",
       "      <td>182tpRS3656</td>\n",
       "      <td>Q</td>\n",
       "      <td>2</td>\n",
       "      <td>接机</td>\n",
       "      <td>8</td>\n",
       "      <td>取消</td>\n",
       "      <td>2019-01-26</td>\n",
       "      <td>...</td>\n",
       "      <td>shenyang</td>\n",
       "      <td>沈阳</td>\n",
       "      <td>80</td>\n",
       "      <td>iPhone</td>\n",
       "      <td>100</td>\n",
       "      <td>OTA司机接单</td>\n",
       "      <td>2</td>\n",
       "      <td>舒适型</td>\n",
       "      <td>12</td>\n",
       "      <td>OTA</td>\n",
       "    </tr>\n",
       "  </tbody>\n",
       "</table>\n",
       "<p>5 rows × 25 columns</p>\n",
       "</div>"
      ],
      "text/plain": [
       "  trade_order_id                                   uid  \\\n",
       "0  E181619485232                       868385039047457   \n",
       "1  E181645360215  E7663F36-6C35-4DDA-BEB3-2897F4ED35BC   \n",
       "2  E181680198260                       866229036251187   \n",
       "3  E181781813380                       866693026884317   \n",
       "4  E181787631459  273ECCB0-AA83-4766-8013-C2D22DF0D6A0   \n",
       "\n",
       "                                    gid passenger_phone platform  \\\n",
       "0  BB7C5279-95E1-DA88-EC0D-9A358E56AB73     186VU265589        Q   \n",
       "1  69093625-85FA-A7B7-F485-0C8AB5404A88     139svlo3695        Q   \n",
       "2  9AA77171-6B71-0946-0D7A-A21D4DCE2873     186r8ar1007        Q   \n",
       "3  0EC31567-3910-FA5F-4B13-B1C8FB262628     138gNTQ9157        Q   \n",
       "4  97FE372C-B013-A68E-7A17-A44FEAF7E46A     182tpRS3656        Q   \n",
       "\n",
       "   service_type service_type_name  order_status order_status_name   order_day  \\\n",
       "0             3          城市交通（时租）             7             已确认款项  2018-08-11   \n",
       "1             3          城市交通（时租）             7             已确认款项  2018-09-06   \n",
       "2             3          城市交通（时租）             7             已确认款项  2018-10-11   \n",
       "3             3          城市交通（时租）             8                取消  2019-01-20   \n",
       "4             2                接机             8                取消  2019-01-26   \n",
       "\n",
       "   ...      city_code  city_name channel_id  channel_name  \\\n",
       "0  ...          sanya         三亚         60       Android   \n",
       "1  ...  shanghai_city         上海         80        iPhone   \n",
       "2  ...          wuhan         武汉         60       Android   \n",
       "3  ...        nanjing         南京         60       Android   \n",
       "4  ...       shenyang         沈阳         80        iPhone   \n",
       "\n",
       "  first_taken_driver_taken_type first_taken_driver_taken_type_name  \\\n",
       "0                           100                            OTA司机接单   \n",
       "1                           100                            OTA司机接单   \n",
       "2                           100                            OTA司机接单   \n",
       "3                           100                            OTA司机接单   \n",
       "4                           100                            OTA司机接单   \n",
       "\n",
       "  order_car_type_id.1  order_car_type_name.1 source_type  source_type_name  \n",
       "0                  99                    出租车          12               OTA  \n",
       "1                   5                    商务型          12               OTA  \n",
       "2                  99                    出租车          12               OTA  \n",
       "3                  99                    出租车          12               OTA  \n",
       "4                   2                    舒适型          12               OTA  \n",
       "\n",
       "[5 rows x 25 columns]"
      ]
     },
     "execution_count": 4,
     "metadata": {},
     "output_type": "execute_result"
    }
   ],
   "source": [
    "df_user_order_detail.head()"
   ]
  },
  {
   "cell_type": "code",
   "execution_count": 5,
   "metadata": {},
   "outputs": [
    {
     "name": "stdout",
     "output_type": "stream",
     "text": [
      "<class 'pandas.core.frame.DataFrame'>\n",
      "RangeIndex: 10000 entries, 0 to 9999\n",
      "Data columns (total 25 columns):\n",
      "trade_order_id                        10000 non-null object\n",
      "uid                                   10000 non-null object\n",
      "gid                                   10000 non-null object\n",
      "passenger_phone                       10000 non-null object\n",
      "platform                              10000 non-null object\n",
      "service_type                          10000 non-null int32\n",
      "service_type_name                     10000 non-null object\n",
      "order_status                          10000 non-null int32\n",
      "order_status_name                     10000 non-null object\n",
      "order_day                             10000 non-null object\n",
      "book_day                              10000 non-null object\n",
      "order_car_type_id                     10000 non-null int32\n",
      "order_car_type_name                   10000 non-null object\n",
      "order_order_class_id                  10000 non-null int64\n",
      "order_order_class_name                10000 non-null object\n",
      "city_code                             10000 non-null object\n",
      "city_name                             10000 non-null object\n",
      "channel_id                            10000 non-null int32\n",
      "channel_name                          10000 non-null object\n",
      "first_taken_driver_taken_type         10000 non-null int64\n",
      "first_taken_driver_taken_type_name    10000 non-null object\n",
      "order_car_type_id.1                   10000 non-null int64\n",
      "order_car_type_name.1                 10000 non-null object\n",
      "source_type                           10000 non-null int32\n",
      "source_type_name                      10000 non-null object\n",
      "dtypes: int32(5), int64(3), object(17)\n",
      "memory usage: 1.7+ MB\n"
     ]
    }
   ],
   "source": [
    "df_user_order_detail.info()"
   ]
  },
  {
   "cell_type": "code",
   "execution_count": 6,
   "metadata": {
    "scrolled": true
   },
   "outputs": [
    {
     "data": {
      "text/plain": [
       "False    10000\n",
       "dtype: int64"
      ]
     },
     "execution_count": 6,
     "metadata": {},
     "output_type": "execute_result"
    }
   ],
   "source": [
    "df_user_order_detail.duplicated().value_counts()"
   ]
  },
  {
   "cell_type": "code",
   "execution_count": 7,
   "metadata": {},
   "outputs": [
    {
     "data": {
      "text/plain": [
       "(0, 25)"
      ]
     },
     "execution_count": 7,
     "metadata": {},
     "output_type": "execute_result"
    }
   ],
   "source": [
    "df_na = df_user_order_detail[df_user_order_detail.apply(lambda x:x==0) | (df_user_order_detail.apply(lambda x:x==0))].dropna(axis=0,how='all')\n",
    "df_na.shape"
   ]
  },
  {
   "cell_type": "code",
   "execution_count": 8,
   "metadata": {},
   "outputs": [],
   "source": [
    "df_user_order_detail.drop(columns=['order_car_type_id.1','order_car_type_name.1'],inplace=True)"
   ]
  },
  {
   "cell_type": "code",
   "execution_count": 9,
   "metadata": {},
   "outputs": [
    {
     "data": {
      "text/plain": [
       "(10000, 23)"
      ]
     },
     "execution_count": 9,
     "metadata": {},
     "output_type": "execute_result"
    }
   ],
   "source": [
    "df_user_order_detail.shape"
   ]
  },
  {
   "cell_type": "code",
   "execution_count": 10,
   "metadata": {},
   "outputs": [],
   "source": [
    "def date_extension(row):     # 如有必要，可通过ProcessPoolExecutor加速\n",
    "    use_immediate = 1 if row['order_day'] == row['book_day'] else 0\n",
    "    order_date_tuple = time.strptime(row['order_day'],'%Y-%m-%d')[:3]\n",
    "    book_date_tuple = time.strptime(row['book_day'],'%Y-%m-%d')[:3]\n",
    "#     order_month = month_short_list[order_date_tuple[1]-1]\n",
    "    order_month = order_date_tuple[1]\n",
    "#     book_month = month_short_list[book_date_tuple[1]-1]\n",
    "    book_month = book_date_tuple[1]\n",
    "    r_order_date = 1 if is_holiday(datetime.date(order_date_tuple[0],order_date_tuple[1],order_date_tuple[2])) else 0\n",
    "    r_book_date = 1 if is_holiday(datetime.date(book_date_tuple[0],book_date_tuple[1],book_date_tuple[2])) else 0\n",
    "    return r_order_date,r_book_date,use_immediate,order_month,book_month"
   ]
  },
  {
   "cell_type": "code",
   "execution_count": 11,
   "metadata": {},
   "outputs": [],
   "source": [
    "df_user_order_detail[['is_bookdate_holiday','is_orderdate_holiday','use_immediate','order_month','book_month']] = df_user_order_detail.apply(date_extension,axis=1,result_type='expand')"
   ]
  },
  {
   "cell_type": "code",
   "execution_count": 12,
   "metadata": {},
   "outputs": [
    {
     "name": "stdout",
     "output_type": "stream",
     "text": [
      "<class 'pandas.core.frame.DataFrame'>\n",
      "RangeIndex: 10000 entries, 0 to 9999\n",
      "Data columns (total 28 columns):\n",
      "trade_order_id                        10000 non-null object\n",
      "uid                                   10000 non-null object\n",
      "gid                                   10000 non-null object\n",
      "passenger_phone                       10000 non-null object\n",
      "platform                              10000 non-null object\n",
      "service_type                          10000 non-null int32\n",
      "service_type_name                     10000 non-null object\n",
      "order_status                          10000 non-null int32\n",
      "order_status_name                     10000 non-null object\n",
      "order_day                             10000 non-null object\n",
      "book_day                              10000 non-null object\n",
      "order_car_type_id                     10000 non-null int32\n",
      "order_car_type_name                   10000 non-null object\n",
      "order_order_class_id                  10000 non-null int64\n",
      "order_order_class_name                10000 non-null object\n",
      "city_code                             10000 non-null object\n",
      "city_name                             10000 non-null object\n",
      "channel_id                            10000 non-null int32\n",
      "channel_name                          10000 non-null object\n",
      "first_taken_driver_taken_type         10000 non-null int64\n",
      "first_taken_driver_taken_type_name    10000 non-null object\n",
      "source_type                           10000 non-null int32\n",
      "source_type_name                      10000 non-null object\n",
      "is_bookdate_holiday                   10000 non-null int64\n",
      "is_orderdate_holiday                  10000 non-null int64\n",
      "use_immediate                         10000 non-null int64\n",
      "order_month                           10000 non-null int64\n",
      "book_month                            10000 non-null int64\n",
      "dtypes: int32(5), int64(7), object(16)\n",
      "memory usage: 1.9+ MB\n"
     ]
    }
   ],
   "source": [
    "df_user_order_detail.info()"
   ]
  },
  {
   "cell_type": "code",
   "execution_count": 11,
   "metadata": {},
   "outputs": [
    {
     "data": {
      "text/html": [
       "<div>\n",
       "<style scoped>\n",
       "    .dataframe tbody tr th:only-of-type {\n",
       "        vertical-align: middle;\n",
       "    }\n",
       "\n",
       "    .dataframe tbody tr th {\n",
       "        vertical-align: top;\n",
       "    }\n",
       "\n",
       "    .dataframe thead th {\n",
       "        text-align: right;\n",
       "    }\n",
       "</style>\n",
       "<table border=\"1\" class=\"dataframe\">\n",
       "  <thead>\n",
       "    <tr style=\"text-align: right;\">\n",
       "      <th></th>\n",
       "      <th>is_bookdate_holiday</th>\n",
       "      <th>is_orderdate_holiday</th>\n",
       "      <th>use_immediate</th>\n",
       "      <th>order_month</th>\n",
       "      <th>book_month</th>\n",
       "    </tr>\n",
       "  </thead>\n",
       "  <tbody>\n",
       "    <tr>\n",
       "      <td>0</td>\n",
       "      <td>1</td>\n",
       "      <td>1</td>\n",
       "      <td>1</td>\n",
       "      <td>8</td>\n",
       "      <td>8</td>\n",
       "    </tr>\n",
       "    <tr>\n",
       "      <td>1</td>\n",
       "      <td>0</td>\n",
       "      <td>0</td>\n",
       "      <td>1</td>\n",
       "      <td>9</td>\n",
       "      <td>9</td>\n",
       "    </tr>\n",
       "    <tr>\n",
       "      <td>2</td>\n",
       "      <td>0</td>\n",
       "      <td>0</td>\n",
       "      <td>1</td>\n",
       "      <td>10</td>\n",
       "      <td>10</td>\n",
       "    </tr>\n",
       "    <tr>\n",
       "      <td>3</td>\n",
       "      <td>1</td>\n",
       "      <td>1</td>\n",
       "      <td>1</td>\n",
       "      <td>1</td>\n",
       "      <td>1</td>\n",
       "    </tr>\n",
       "    <tr>\n",
       "      <td>4</td>\n",
       "      <td>1</td>\n",
       "      <td>0</td>\n",
       "      <td>0</td>\n",
       "      <td>1</td>\n",
       "      <td>2</td>\n",
       "    </tr>\n",
       "    <tr>\n",
       "      <td>...</td>\n",
       "      <td>...</td>\n",
       "      <td>...</td>\n",
       "      <td>...</td>\n",
       "      <td>...</td>\n",
       "      <td>...</td>\n",
       "    </tr>\n",
       "    <tr>\n",
       "      <td>9995</td>\n",
       "      <td>0</td>\n",
       "      <td>0</td>\n",
       "      <td>0</td>\n",
       "      <td>8</td>\n",
       "      <td>8</td>\n",
       "    </tr>\n",
       "    <tr>\n",
       "      <td>9996</td>\n",
       "      <td>1</td>\n",
       "      <td>1</td>\n",
       "      <td>0</td>\n",
       "      <td>10</td>\n",
       "      <td>10</td>\n",
       "    </tr>\n",
       "    <tr>\n",
       "      <td>9997</td>\n",
       "      <td>0</td>\n",
       "      <td>0</td>\n",
       "      <td>0</td>\n",
       "      <td>1</td>\n",
       "      <td>1</td>\n",
       "    </tr>\n",
       "    <tr>\n",
       "      <td>9998</td>\n",
       "      <td>0</td>\n",
       "      <td>0</td>\n",
       "      <td>1</td>\n",
       "      <td>5</td>\n",
       "      <td>5</td>\n",
       "    </tr>\n",
       "    <tr>\n",
       "      <td>9999</td>\n",
       "      <td>1</td>\n",
       "      <td>1</td>\n",
       "      <td>0</td>\n",
       "      <td>6</td>\n",
       "      <td>6</td>\n",
       "    </tr>\n",
       "  </tbody>\n",
       "</table>\n",
       "<p>10000 rows × 5 columns</p>\n",
       "</div>"
      ],
      "text/plain": [
       "      is_bookdate_holiday  is_orderdate_holiday  use_immediate  order_month  \\\n",
       "0                       1                     1              1            8   \n",
       "1                       0                     0              1            9   \n",
       "2                       0                     0              1           10   \n",
       "3                       1                     1              1            1   \n",
       "4                       1                     0              0            1   \n",
       "...                   ...                   ...            ...          ...   \n",
       "9995                    0                     0              0            8   \n",
       "9996                    1                     1              0           10   \n",
       "9997                    0                     0              0            1   \n",
       "9998                    0                     0              1            5   \n",
       "9999                    1                     1              0            6   \n",
       "\n",
       "      book_month  \n",
       "0              8  \n",
       "1              9  \n",
       "2             10  \n",
       "3              1  \n",
       "4              2  \n",
       "...          ...  \n",
       "9995           8  \n",
       "9996          10  \n",
       "9997           1  \n",
       "9998           5  \n",
       "9999           6  \n",
       "\n",
       "[10000 rows x 5 columns]"
      ]
     },
     "execution_count": 11,
     "metadata": {},
     "output_type": "execute_result"
    }
   ],
   "source": [
    "df_user_order_detail[['is_bookdate_holiday','is_orderdate_holiday','use_immediate','order_month','book_month']]"
   ]
  },
  {
   "cell_type": "code",
   "execution_count": 12,
   "metadata": {},
   "outputs": [
    {
     "data": {
      "text/plain": [
       "'2018-06-06'"
      ]
     },
     "execution_count": 12,
     "metadata": {},
     "output_type": "execute_result"
    }
   ],
   "source": [
    "df_user_order_detail['order_day'].max()     # 2019-06-06\n",
    "df_user_order_detail['order_day'].min()     # 2018-06-06"
   ]
  },
  {
   "cell_type": "code",
   "execution_count": 13,
   "metadata": {},
   "outputs": [],
   "source": [
    "plt.rcParams['font.sans-serif']=['SimHei']"
   ]
  },
  {
   "cell_type": "code",
   "execution_count": 13,
   "metadata": {},
   "outputs": [],
   "source": [
    "# 根据用车月份手动指定顺序，尝试过数字，英文，中文字设置自定义排序，均无法满足要求"
   ]
  },
  {
   "cell_type": "code",
   "execution_count": 14,
   "metadata": {},
   "outputs": [],
   "source": [
    "# se_order_month = pd.CategoricalDtype(['七月','八月','九月','十月','十一月','十二月','一月','二月','三月','四月','五月','六月'],ordered=True)"
   ]
  },
  {
   "cell_type": "code",
   "execution_count": 15,
   "metadata": {},
   "outputs": [],
   "source": [
    "# df_user_order_detail['book_month'].astype(se_order_month,inplace=True)"
   ]
  },
  {
   "cell_type": "code",
   "execution_count": 16,
   "metadata": {},
   "outputs": [],
   "source": [
    "# df_user_order_detail.sort_values('book_month',ascending=True)"
   ]
  },
  {
   "cell_type": "code",
   "execution_count": 218,
   "metadata": {},
   "outputs": [],
   "source": [
    "# def se_book_time_ordered(se):\n",
    "#     print(se)\n",
    "#     se_new = pd.concat(se.sort_index()[6:],se.sort_index()[:6])\n",
    "#     return se_new"
   ]
  },
  {
   "cell_type": "code",
   "execution_count": 14,
   "metadata": {},
   "outputs": [
    {
     "data": {
      "text/plain": [
       "0          送机\n",
       "1          接机\n",
       "2    城市交通（时租）\n",
       "3          送站\n",
       "4          接站\n",
       "Name: service_type_name, dtype: object"
      ]
     },
     "execution_count": 14,
     "metadata": {},
     "output_type": "execute_result"
    }
   ],
   "source": [
    "df_service_type_match_name = pd.read_csv(r'../input/car8865/服务类型数据.csv',usecols=['service_type','service_type_name'],\n",
    "                                         dtype={'servcie_type':int,'servcie_type_name':object})\n",
    "service_type_list = df_user_order_detail['service_type'].value_counts().index.to_list()\n",
    "service_type_name_list = df_service_type_match_name.query('service_type in @service_type_list').sort_values('service_type')['service_type_name']\n",
    "service_type_name_list"
   ]
  },
  {
   "cell_type": "code",
   "execution_count": 15,
   "metadata": {},
   "outputs": [],
   "source": [
    "df_service_type_each_month = df_user_order_detail.groupby(['service_type','order_month']).count()['trade_order_id']"
   ]
  },
  {
   "cell_type": "code",
   "execution_count": 16,
   "metadata": {},
   "outputs": [
    {
     "data": {
      "text/plain": [
       "<matplotlib.legend.Legend at 0x16e4c251f98>"
      ]
     },
     "execution_count": 16,
     "metadata": {},
     "output_type": "execute_result"
    },
    {
     "data": {
      "image/png": "[encoded data removed]",
      "text/plain": [
       "<Figure size 1440x576 with 1 Axes>"
      ]
     },
     "metadata": {
      "needs_background": "light"
     },
     "output_type": "display_data"
    }
   ],
   "source": [
    "plt.figure(figsize=(20,8))\n",
    "x = np.arange(len(df_service_type_each_month.xs(1)))\n",
    "width = 0.14\n",
    "color_list = ['gold','red','navy','gray','brown']\n",
    "label_list = service_type_name_list\n",
    "for i,se_ind in enumerate(range(-2,3)):\n",
    "    rect1 = plt.bar(x+(width+0.02)*se_ind,df_service_type_each_month.xs((i+1)).values,width,label=label_list[i],color=color_list[i])\n",
    "plt.xticks(x,labels=df_service_type_each_month.xs(1).index)\n",
    "plt.ylabel('订单数')\n",
    "plt.legend(loc='best')"
   ]
  },
  {
   "cell_type": "markdown",
   "metadata": {},
   "source": [
    "##### 1月送机和送站单数高于其他月份（春运？）\n",
    "##### 租车往来机场业务明显多于租车往来车站业务，而接机在所有订单类型中占比最高；\n",
    "##### 备注：6月有订单正在进行中；"
   ]
  },
  {
   "cell_type": "code",
   "execution_count": 17,
   "metadata": {},
   "outputs": [
    {
     "data": {
      "text/plain": [
       "['北京', '上海', '成都', '西安', '重庆', '广州', '三亚', '深圳', '杭州', '昆明']"
      ]
     },
     "execution_count": 17,
     "metadata": {},
     "output_type": "execute_result"
    }
   ],
   "source": [
    "list_order_city_top10 = df_user_order_detail['city_name'].value_counts().head(10).index.to_list()\n",
    "list_order_city_top10"
   ]
  },
  {
   "cell_type": "code",
   "execution_count": 18,
   "metadata": {},
   "outputs": [],
   "source": [
    "df_order_cities_each_type = df_user_order_detail.query('city_name in @list_order_city_top10').groupby(['service_type','city_name']).count()['trade_order_id']\n",
    "# df_order_cities_each_type\n",
    "df_service_kind_each_city = df_user_order_detail.query('city_name in @list_order_city_top10').groupby(['city_name','service_type']).count()['trade_order_id']\n",
    "# df_service_kind_each_city"
   ]
  },
  {
   "cell_type": "code",
   "execution_count": 19,
   "metadata": {},
   "outputs": [
    {
     "data": {
      "text/plain": [
       "<matplotlib.legend.Legend at 0x16e4be23e80>"
      ]
     },
     "execution_count": 19,
     "metadata": {},
     "output_type": "execute_result"
    },
    {
     "data": {
      "image/png": "[encoded data removed]",
      "text/plain": [
       "<Figure size 1440x576 with 1 Axes>"
      ]
     },
     "metadata": {
      "needs_background": "light"
     },
     "output_type": "display_data"
    }
   ],
   "source": [
    "plt.figure(figsize=(20,8))\n",
    "x = np.arange(len(df_order_cities_each_type.xs(1)))\n",
    "width = 0.14\n",
    "color_list = ['gold','red','navy','gray','brown']\n",
    "label_list = service_type_name_list\n",
    "for i,se_ind in enumerate(range(-2,3)):\n",
    "    rect1 = plt.bar(x+(width+0.02)*se_ind,df_order_cities_each_type.xs((i+1)).values,width,label=label_list[i],color=color_list[i])\n",
    "plt.xticks(x,labels=df_order_cities_each_type.xs(5).sort_index().index.to_list())\n",
    "plt.ylabel('订单数')\n",
    "plt.legend(loc='best')"
   ]
  },
  {
   "cell_type": "code",
   "execution_count": 20,
   "metadata": {},
   "outputs": [
    {
     "data": {
      "text/plain": [
       "北京    160\n",
       "重庆    114\n",
       "上海     88\n",
       "成都     69\n",
       "深圳     58\n",
       "广州     52\n",
       "杭州     50\n",
       "三亚     46\n",
       "昆明     35\n",
       "厦门     34\n",
       "Name: city_name, dtype: int64"
      ]
     },
     "execution_count": 20,
     "metadata": {},
     "output_type": "execute_result"
    }
   ],
   "source": [
    "df_user_order_detail[df_user_order_detail['service_type']==3]['city_name'].value_counts().head(10)     # 城市交通订车排名前十的城市"
   ]
  },
  {
   "cell_type": "code",
   "execution_count": 21,
   "metadata": {},
   "outputs": [
    {
     "data": {
      "text/plain": [
       "城市交通（时租）    12\n",
       "送机          12\n",
       "接机           7\n",
       "送站           3\n",
       "接站           1\n",
       "Name: service_type_name, dtype: int64"
      ]
     },
     "execution_count": 21,
     "metadata": {},
     "output_type": "execute_result"
    }
   ],
   "source": [
    "df_user_order_detail.query('city_name == \"昆明\" & (book_month == 7)')['service_type_name'].value_counts()"
   ]
  },
  {
   "cell_type": "code",
   "execution_count": 22,
   "metadata": {},
   "outputs": [
    {
     "data": {
      "text/plain": [
       "1     32\n",
       "2     31\n",
       "3     17\n",
       "4     25\n",
       "5     28\n",
       "6     31\n",
       "7     39\n",
       "8     31\n",
       "9     24\n",
       "10    32\n",
       "11    26\n",
       "12    21\n",
       "Name: book_month, dtype: int64"
      ]
     },
     "execution_count": 22,
     "metadata": {},
     "output_type": "execute_result"
    }
   ],
   "source": [
    "df_user_order_detail[df_user_order_detail['city_name']=='杭州']['book_month'].value_counts().sort_index()"
   ]
  },
  {
   "cell_type": "code",
   "execution_count": 23,
   "metadata": {},
   "outputs": [
    {
     "data": {
      "image/png": "[encoded data removed]",
      "text/plain": [
       "<Figure size 1440x1008 with 10 Axes>"
      ]
     },
     "metadata": {
      "needs_background": "light"
     },
     "output_type": "display_data"
    }
   ],
   "source": [
    "fig = plt.figure(figsize=(20,14))\n",
    "label_list = list_order_city_top10\n",
    "color_list = ['grey','lightskyblue','chocolate','goldenrod','orangered','firebrick','deepskyblue','blue','green','springgreen']\n",
    "ax = None\n",
    "for j,city in enumerate(list_order_city_top10):\n",
    "    if ax is None:\n",
    "        ax = fig.add_subplot(5,2,j+1)\n",
    "    else:\n",
    "        ax = fig.add_subplot(5,2,j+1,sharex=ax,sharey=ax)\n",
    "    x = df_service_type_each_month.xs(1).index.to_list()\n",
    "    y = df_user_order_detail[df_user_order_detail['city_name']==city]['book_month'].value_counts().sort_index()\n",
    "    plt.bar(x,y,color=color_list[j],label=label_list[j],width=0.5)\n",
    "    plt.xticks(x)\n",
    "    plt.ylabel('订单数')\n",
    "    plt.xlabel('月份')\n",
    "    plt.title(f'{city}订单数月份分布')\n",
    "fig.tight_layout(h_pad=2)"
   ]
  },
  {
   "cell_type": "code",
   "execution_count": 24,
   "metadata": {},
   "outputs": [],
   "source": [
    "df_service_type_each_city = df_user_order_detail.groupby('city_name')['service_type_name'].agg([('order_total','count'),\n",
    "                                               ('order_air_send',lambda x:(x=='送机').sum()),\n",
    "                                               ('order_air_pickup',lambda x:(x=='接机').sum()),\n",
    "                                               ('order_urban_traffic',lambda x:(x=='城市交通（时租）').sum()),\n",
    "                                               ('order_station_send',lambda x:(x=='送站').sum()),\n",
    "                                               ('order_station_pickup',lambda x:(x=='接站').sum())])"
   ]
  },
  {
   "cell_type": "code",
   "execution_count": 25,
   "metadata": {},
   "outputs": [],
   "source": [
    "def order_type_rate(row):\n",
    "    air_send_rate = row['order_air_send']/row['order_total']\n",
    "    air_pickup_rate = row['order_air_pickup']/row['order_total']\n",
    "    urban_traffic_rate = row['order_urban_traffic']/row['order_total']\n",
    "    station_send_rate = row['order_station_send']/row['order_total']\n",
    "    station_pickup_rate = row['order_station_pickup']/row['order_total']\n",
    "    air_order_rate = (row['order_air_send']+row['order_air_pickup'])/row['order_total']\n",
    "    station_order_rate = (row['order_station_send']+row['order_station_pickup'])/row['order_total']\n",
    "    pickup_order_rate = (row['order_station_pickup']+row['order_air_pickup'])/row['order_total']\n",
    "    send_order_rate = (row['order_air_send']+row['order_station_send'])/row['order_total']\n",
    "    return air_send_rate,air_pickup_rate,urban_traffic_rate,station_send_rate,station_pickup_rate,air_order_rate,station_order_rate,pickup_order_rate,send_order_rate"
   ]
  },
  {
   "cell_type": "code",
   "execution_count": 26,
   "metadata": {},
   "outputs": [],
   "source": [
    "df_service_type_each_city[['air_send_rate',\n",
    "                          'air_pickup_rate',\n",
    "                          'urban_traffic_rate',\n",
    "                          'station_send_rate',\n",
    "                          'station_pickup_rate',\n",
    "                          'air_order_rate',\n",
    "                          'station_order_rate',\n",
    "                           'pickup_order_rate',\n",
    "                           'send_order_rate']] = df_service_type_each_city.apply(order_type_rate,axis=1,result_type='expand')"
   ]
  },
  {
   "cell_type": "code",
   "execution_count": 27,
   "metadata": {},
   "outputs": [
    {
     "data": {
      "text/html": [
       "<div>\n",
       "<style scoped>\n",
       "    .dataframe tbody tr th:only-of-type {\n",
       "        vertical-align: middle;\n",
       "    }\n",
       "\n",
       "    .dataframe tbody tr th {\n",
       "        vertical-align: top;\n",
       "    }\n",
       "\n",
       "    .dataframe thead th {\n",
       "        text-align: right;\n",
       "    }\n",
       "</style>\n",
       "<table border=\"1\" class=\"dataframe\">\n",
       "  <thead>\n",
       "    <tr style=\"text-align: right;\">\n",
       "      <th></th>\n",
       "      <th>order_total</th>\n",
       "      <th>order_air_send</th>\n",
       "      <th>order_air_pickup</th>\n",
       "      <th>order_urban_traffic</th>\n",
       "      <th>order_station_send</th>\n",
       "      <th>order_station_pickup</th>\n",
       "      <th>air_send_rate</th>\n",
       "      <th>air_pickup_rate</th>\n",
       "      <th>urban_traffic_rate</th>\n",
       "      <th>station_send_rate</th>\n",
       "      <th>station_pickup_rate</th>\n",
       "      <th>air_order_rate</th>\n",
       "      <th>station_order_rate</th>\n",
       "      <th>pickup_order_rate</th>\n",
       "      <th>send_order_rate</th>\n",
       "    </tr>\n",
       "    <tr>\n",
       "      <th>city_name</th>\n",
       "      <th></th>\n",
       "      <th></th>\n",
       "      <th></th>\n",
       "      <th></th>\n",
       "      <th></th>\n",
       "      <th></th>\n",
       "      <th></th>\n",
       "      <th></th>\n",
       "      <th></th>\n",
       "      <th></th>\n",
       "      <th></th>\n",
       "      <th></th>\n",
       "      <th></th>\n",
       "      <th></th>\n",
       "      <th></th>\n",
       "    </tr>\n",
       "  </thead>\n",
       "  <tbody>\n",
       "    <tr>\n",
       "      <td>三亚</td>\n",
       "      <td>394</td>\n",
       "      <td>143</td>\n",
       "      <td>187</td>\n",
       "      <td>46</td>\n",
       "      <td>9</td>\n",
       "      <td>9</td>\n",
       "      <td>0.362944</td>\n",
       "      <td>0.474619</td>\n",
       "      <td>0.116751</td>\n",
       "      <td>0.022843</td>\n",
       "      <td>0.022843</td>\n",
       "      <td>0.837563</td>\n",
       "      <td>0.045685</td>\n",
       "      <td>0.497462</td>\n",
       "      <td>0.385787</td>\n",
       "    </tr>\n",
       "    <tr>\n",
       "      <td>上海</td>\n",
       "      <td>669</td>\n",
       "      <td>191</td>\n",
       "      <td>324</td>\n",
       "      <td>88</td>\n",
       "      <td>21</td>\n",
       "      <td>45</td>\n",
       "      <td>0.285501</td>\n",
       "      <td>0.484305</td>\n",
       "      <td>0.131540</td>\n",
       "      <td>0.031390</td>\n",
       "      <td>0.067265</td>\n",
       "      <td>0.769806</td>\n",
       "      <td>0.098655</td>\n",
       "      <td>0.551570</td>\n",
       "      <td>0.316891</td>\n",
       "    </tr>\n",
       "    <tr>\n",
       "      <td>上饶</td>\n",
       "      <td>6</td>\n",
       "      <td>0</td>\n",
       "      <td>1</td>\n",
       "      <td>4</td>\n",
       "      <td>1</td>\n",
       "      <td>0</td>\n",
       "      <td>0.000000</td>\n",
       "      <td>0.166667</td>\n",
       "      <td>0.666667</td>\n",
       "      <td>0.166667</td>\n",
       "      <td>0.000000</td>\n",
       "      <td>0.166667</td>\n",
       "      <td>0.166667</td>\n",
       "      <td>0.166667</td>\n",
       "      <td>0.166667</td>\n",
       "    </tr>\n",
       "    <tr>\n",
       "      <td>东莞</td>\n",
       "      <td>27</td>\n",
       "      <td>4</td>\n",
       "      <td>12</td>\n",
       "      <td>11</td>\n",
       "      <td>0</td>\n",
       "      <td>0</td>\n",
       "      <td>0.148148</td>\n",
       "      <td>0.444444</td>\n",
       "      <td>0.407407</td>\n",
       "      <td>0.000000</td>\n",
       "      <td>0.000000</td>\n",
       "      <td>0.592593</td>\n",
       "      <td>0.000000</td>\n",
       "      <td>0.444444</td>\n",
       "      <td>0.148148</td>\n",
       "    </tr>\n",
       "    <tr>\n",
       "      <td>中卫</td>\n",
       "      <td>1</td>\n",
       "      <td>0</td>\n",
       "      <td>0</td>\n",
       "      <td>1</td>\n",
       "      <td>0</td>\n",
       "      <td>0</td>\n",
       "      <td>0.000000</td>\n",
       "      <td>0.000000</td>\n",
       "      <td>1.000000</td>\n",
       "      <td>0.000000</td>\n",
       "      <td>0.000000</td>\n",
       "      <td>0.000000</td>\n",
       "      <td>0.000000</td>\n",
       "      <td>0.000000</td>\n",
       "      <td>0.000000</td>\n",
       "    </tr>\n",
       "    <tr>\n",
       "      <td>...</td>\n",
       "      <td>...</td>\n",
       "      <td>...</td>\n",
       "      <td>...</td>\n",
       "      <td>...</td>\n",
       "      <td>...</td>\n",
       "      <td>...</td>\n",
       "      <td>...</td>\n",
       "      <td>...</td>\n",
       "      <td>...</td>\n",
       "      <td>...</td>\n",
       "      <td>...</td>\n",
       "      <td>...</td>\n",
       "      <td>...</td>\n",
       "      <td>...</td>\n",
       "      <td>...</td>\n",
       "    </tr>\n",
       "    <tr>\n",
       "      <td>鞍山</td>\n",
       "      <td>1</td>\n",
       "      <td>0</td>\n",
       "      <td>0</td>\n",
       "      <td>1</td>\n",
       "      <td>0</td>\n",
       "      <td>0</td>\n",
       "      <td>0.000000</td>\n",
       "      <td>0.000000</td>\n",
       "      <td>1.000000</td>\n",
       "      <td>0.000000</td>\n",
       "      <td>0.000000</td>\n",
       "      <td>0.000000</td>\n",
       "      <td>0.000000</td>\n",
       "      <td>0.000000</td>\n",
       "      <td>0.000000</td>\n",
       "    </tr>\n",
       "    <tr>\n",
       "      <td>香格里拉</td>\n",
       "      <td>1</td>\n",
       "      <td>0</td>\n",
       "      <td>1</td>\n",
       "      <td>0</td>\n",
       "      <td>0</td>\n",
       "      <td>0</td>\n",
       "      <td>0.000000</td>\n",
       "      <td>1.000000</td>\n",
       "      <td>0.000000</td>\n",
       "      <td>0.000000</td>\n",
       "      <td>0.000000</td>\n",
       "      <td>1.000000</td>\n",
       "      <td>0.000000</td>\n",
       "      <td>1.000000</td>\n",
       "      <td>0.000000</td>\n",
       "    </tr>\n",
       "    <tr>\n",
       "      <td>马鞍山</td>\n",
       "      <td>1</td>\n",
       "      <td>0</td>\n",
       "      <td>0</td>\n",
       "      <td>1</td>\n",
       "      <td>0</td>\n",
       "      <td>0</td>\n",
       "      <td>0.000000</td>\n",
       "      <td>0.000000</td>\n",
       "      <td>1.000000</td>\n",
       "      <td>0.000000</td>\n",
       "      <td>0.000000</td>\n",
       "      <td>0.000000</td>\n",
       "      <td>0.000000</td>\n",
       "      <td>0.000000</td>\n",
       "      <td>0.000000</td>\n",
       "    </tr>\n",
       "    <tr>\n",
       "      <td>黄山</td>\n",
       "      <td>9</td>\n",
       "      <td>0</td>\n",
       "      <td>6</td>\n",
       "      <td>1</td>\n",
       "      <td>2</td>\n",
       "      <td>0</td>\n",
       "      <td>0.000000</td>\n",
       "      <td>0.666667</td>\n",
       "      <td>0.111111</td>\n",
       "      <td>0.222222</td>\n",
       "      <td>0.000000</td>\n",
       "      <td>0.666667</td>\n",
       "      <td>0.222222</td>\n",
       "      <td>0.666667</td>\n",
       "      <td>0.222222</td>\n",
       "    </tr>\n",
       "    <tr>\n",
       "      <td>龙岩</td>\n",
       "      <td>1</td>\n",
       "      <td>0</td>\n",
       "      <td>0</td>\n",
       "      <td>1</td>\n",
       "      <td>0</td>\n",
       "      <td>0</td>\n",
       "      <td>0.000000</td>\n",
       "      <td>0.000000</td>\n",
       "      <td>1.000000</td>\n",
       "      <td>0.000000</td>\n",
       "      <td>0.000000</td>\n",
       "      <td>0.000000</td>\n",
       "      <td>0.000000</td>\n",
       "      <td>0.000000</td>\n",
       "      <td>0.000000</td>\n",
       "    </tr>\n",
       "  </tbody>\n",
       "</table>\n",
       "<p>171 rows × 15 columns</p>\n",
       "</div>"
      ],
      "text/plain": [
       "           order_total  order_air_send  order_air_pickup  order_urban_traffic  \\\n",
       "city_name                                                                       \n",
       "三亚                 394             143               187                   46   \n",
       "上海                 669             191               324                   88   \n",
       "上饶                   6               0                 1                    4   \n",
       "东莞                  27               4                12                   11   \n",
       "中卫                   1               0                 0                    1   \n",
       "...                ...             ...               ...                  ...   \n",
       "鞍山                   1               0                 0                    1   \n",
       "香格里拉                 1               0                 1                    0   \n",
       "马鞍山                  1               0                 0                    1   \n",
       "黄山                   9               0                 6                    1   \n",
       "龙岩                   1               0                 0                    1   \n",
       "\n",
       "           order_station_send  order_station_pickup  air_send_rate  \\\n",
       "city_name                                                            \n",
       "三亚                          9                     9       0.362944   \n",
       "上海                         21                    45       0.285501   \n",
       "上饶                          1                     0       0.000000   \n",
       "东莞                          0                     0       0.148148   \n",
       "中卫                          0                     0       0.000000   \n",
       "...                       ...                   ...            ...   \n",
       "鞍山                          0                     0       0.000000   \n",
       "香格里拉                        0                     0       0.000000   \n",
       "马鞍山                         0                     0       0.000000   \n",
       "黄山                          2                     0       0.000000   \n",
       "龙岩                          0                     0       0.000000   \n",
       "\n",
       "           air_pickup_rate  urban_traffic_rate  station_send_rate  \\\n",
       "city_name                                                           \n",
       "三亚                0.474619            0.116751           0.022843   \n",
       "上海                0.484305            0.131540           0.031390   \n",
       "上饶                0.166667            0.666667           0.166667   \n",
       "东莞                0.444444            0.407407           0.000000   \n",
       "中卫                0.000000            1.000000           0.000000   \n",
       "...                    ...                 ...                ...   \n",
       "鞍山                0.000000            1.000000           0.000000   \n",
       "香格里拉              1.000000            0.000000           0.000000   \n",
       "马鞍山               0.000000            1.000000           0.000000   \n",
       "黄山                0.666667            0.111111           0.222222   \n",
       "龙岩                0.000000            1.000000           0.000000   \n",
       "\n",
       "           station_pickup_rate  air_order_rate  station_order_rate  \\\n",
       "city_name                                                            \n",
       "三亚                    0.022843        0.837563            0.045685   \n",
       "上海                    0.067265        0.769806            0.098655   \n",
       "上饶                    0.000000        0.166667            0.166667   \n",
       "东莞                    0.000000        0.592593            0.000000   \n",
       "中卫                    0.000000        0.000000            0.000000   \n",
       "...                        ...             ...                 ...   \n",
       "鞍山                    0.000000        0.000000            0.000000   \n",
       "香格里拉                  0.000000        1.000000            0.000000   \n",
       "马鞍山                   0.000000        0.000000            0.000000   \n",
       "黄山                    0.000000        0.666667            0.222222   \n",
       "龙岩                    0.000000        0.000000            0.000000   \n",
       "\n",
       "           pickup_order_rate  send_order_rate  \n",
       "city_name                                      \n",
       "三亚                  0.497462         0.385787  \n",
       "上海                  0.551570         0.316891  \n",
       "上饶                  0.166667         0.166667  \n",
       "东莞                  0.444444         0.148148  \n",
       "中卫                  0.000000         0.000000  \n",
       "...                      ...              ...  \n",
       "鞍山                  0.000000         0.000000  \n",
       "香格里拉                1.000000         0.000000  \n",
       "马鞍山                 0.000000         0.000000  \n",
       "黄山                  0.666667         0.222222  \n",
       "龙岩                  0.000000         0.000000  \n",
       "\n",
       "[171 rows x 15 columns]"
      ]
     },
     "execution_count": 27,
     "metadata": {},
     "output_type": "execute_result"
    }
   ],
   "source": [
    "df_service_type_each_city"
   ]
  },
  {
   "cell_type": "code",
   "execution_count": 28,
   "metadata": {},
   "outputs": [],
   "source": [
    "# 只计订单数大于等于100的城市\n",
    "df_city_order_data_in_count = df_service_type_each_city.query('order_total >= 100').sort_values('order_total',ascending=False)"
   ]
  },
  {
   "cell_type": "code",
   "execution_count": 29,
   "metadata": {},
   "outputs": [
    {
     "data": {
      "text/plain": [
       "city_name\n",
       "重庆    25.73%\n",
       "济南    22.76%\n",
       "深圳    16.16%\n",
       "杭州    14.84%\n",
       "贵阳    14.81%\n",
       "Name: urban_traffic_rate, dtype: object"
      ]
     },
     "execution_count": 29,
     "metadata": {},
     "output_type": "execute_result"
    }
   ],
   "source": [
    "# 城市交通（时租）占所有订单比例前五\n",
    "df_city_order_data_in_count.sort_values('urban_traffic_rate',ascending=False)['urban_traffic_rate'].head(5).apply(lambda x:str(round(x*100,2))+'%')"
   ]
  },
  {
   "cell_type": "code",
   "execution_count": 30,
   "metadata": {},
   "outputs": [
    {
     "data": {
      "text/plain": [
       "city_name\n",
       "乌鲁木齐    89.93%\n",
       "西安      87.91%\n",
       "沈阳      87.63%\n",
       "南宁      87.32%\n",
       "海口      86.34%\n",
       "Name: air_order_rate, dtype: object"
      ]
     },
     "execution_count": 30,
     "metadata": {},
     "output_type": "execute_result"
    }
   ],
   "source": [
    "# 机场业务占所有订单比例前五\n",
    "df_city_order_data_in_count.sort_values('air_order_rate',ascending=False)['air_order_rate'].head(5).apply(lambda x:str(round(x*100,2))+'%')"
   ]
  },
  {
   "cell_type": "code",
   "execution_count": 31,
   "metadata": {},
   "outputs": [
    {
     "data": {
      "text/plain": [
       "city_name\n",
       "太原    25.83%\n",
       "武汉    16.02%\n",
       "南京    15.97%\n",
       "济南     12.2%\n",
       "重庆    11.74%\n",
       "Name: station_order_rate, dtype: object"
      ]
     },
     "execution_count": 31,
     "metadata": {},
     "output_type": "execute_result"
    }
   ],
   "source": [
    "# 接送站业务占全部订单比例前五\n",
    "df_city_order_data_in_count.sort_values('station_order_rate',ascending=False)['station_order_rate'].head(5).apply(lambda x:str(round(x*100,2))+'%')"
   ]
  },
  {
   "cell_type": "code",
   "execution_count": 32,
   "metadata": {},
   "outputs": [
    {
     "data": {
      "text/plain": [
       "city_name\n",
       "重庆    62.53%\n",
       "济南    65.04%\n",
       "太原    68.33%\n",
       "武汉    71.27%\n",
       "南京    73.95%\n",
       "北京    74.98%\n",
       "贵阳    75.13%\n",
       "广州    75.19%\n",
       "杭州    75.96%\n",
       "深圳    76.04%\n",
       "Name: air_order_rate, dtype: object"
      ]
     },
     "execution_count": 32,
     "metadata": {},
     "output_type": "execute_result"
    }
   ],
   "source": [
    "# 接客业务占全部订单比例前五\n",
    "df_city_order_data_in_count.sort_values('air_order_rate',ascending=True)['air_order_rate'].head(10).apply(lambda x:str(round(x*100,2))+'%')"
   ]
  },
  {
   "cell_type": "code",
   "execution_count": 33,
   "metadata": {},
   "outputs": [],
   "source": [
    "# df_city_in_count = df_service_kind_each_city[df_service_type_each_city['order_total'] > 100] 有问题，尝试reset_index失败"
   ]
  },
  {
   "cell_type": "markdown",
   "metadata": {},
   "source": [
    "##### 租车订单最多的城市top10分别是：北京, 上海, 成都, 西安, 重庆, 广州, 三亚, 深圳, 杭州, 昆明；\n",
    "##### 三亚3月订单数明显多于其他月份，杭州3月单数则很少，其他城市订单数随月份变化不大；\n",
    "##### 部分城市(如乌鲁木齐，西安，三亚……)的机场接送订单占比很高，超过80%甚至接近90%，通常接机占更多比例（接站亦然）；太原接送站业务则相对突出，南京，武汉紧随其后；而重庆，济南的市内交通是所有订单的重要组成部分；\n",
    "##### 截止订单最后日期，订单量较大的城市中，咸阳机场（西安），美兰机场/凤凰机场（三亚），萧山机场 （杭州）没有通地铁。根据相关新闻，此局面将在2021年结束，这些城市接送机订单可能会有所缩减；"
   ]
  },
  {
   "cell_type": "code",
   "execution_count": 34,
   "metadata": {},
   "outputs": [
    {
     "data": {
      "text/plain": [
       "经济型      4908\n",
       "舒适型      3399\n",
       "出租车       927\n",
       "商务型       633\n",
       "豪华型        45\n",
       "快车         40\n",
       "10座小巴      15\n",
       "8座小巴       14\n",
       "15座中巴       9\n",
       "35座大巴       3\n",
       "25座中巴       3\n",
       "头等舱         3\n",
       "20座中巴       1\n",
       "Name: order_car_type_name, dtype: int64"
      ]
     },
     "execution_count": 34,
     "metadata": {},
     "output_type": "execute_result"
    }
   ],
   "source": [
    "df_user_order_detail['order_car_type_name'].value_counts()"
   ]
  },
  {
   "cell_type": "code",
   "execution_count": 35,
   "metadata": {},
   "outputs": [
    {
     "data": {
      "text/plain": [
       "7     210\n",
       "8     197\n",
       "6     116\n",
       "10     95\n",
       "9      78\n",
       "2      46\n",
       "1      42\n",
       "4      39\n",
       "12     33\n",
       "3      31\n",
       "11     24\n",
       "5      16\n",
       "Name: book_month, dtype: int64"
      ]
     },
     "execution_count": 35,
     "metadata": {},
     "output_type": "execute_result"
    }
   ],
   "source": [
    "df_user_order_detail[df_user_order_detail['order_car_type_name']=='出租车']['book_month'].value_counts()"
   ]
  },
  {
   "cell_type": "code",
   "execution_count": 36,
   "metadata": {},
   "outputs": [
    {
     "data": {
      "text/plain": [
       "城市交通（时租）    927\n",
       "Name: service_type_name, dtype: int64"
      ]
     },
     "execution_count": 36,
     "metadata": {},
     "output_type": "execute_result"
    }
   ],
   "source": [
    "df_user_order_detail[df_user_order_detail['order_car_type_name']=='出租车']['service_type_name'].value_counts()"
   ]
  },
  {
   "cell_type": "code",
   "execution_count": 37,
   "metadata": {},
   "outputs": [
    {
     "data": {
      "text/plain": [
       "接机    40\n",
       "Name: service_type_name, dtype: int64"
      ]
     },
     "execution_count": 37,
     "metadata": {},
     "output_type": "execute_result"
    }
   ],
   "source": [
    "df_user_order_detail[df_user_order_detail['order_car_type_name']=='快车']['service_type_name'].value_counts()"
   ]
  },
  {
   "cell_type": "code",
   "execution_count": 38,
   "metadata": {},
   "outputs": [
    {
     "data": {
      "text/plain": [
       "北京      18\n",
       "深圳       3\n",
       "厦门       3\n",
       "三亚       2\n",
       "长沙       2\n",
       "成都       2\n",
       "广州       2\n",
       "乌鲁木齐     1\n",
       "温州       1\n",
       "无锡       1\n",
       "常州       1\n",
       "贵阳       1\n",
       "郑州       1\n",
       "合肥       1\n",
       "济南       1\n",
       "Name: city_name, dtype: int64"
      ]
     },
     "execution_count": 38,
     "metadata": {},
     "output_type": "execute_result"
    }
   ],
   "source": [
    "df_user_order_detail[df_user_order_detail['order_car_type_name']=='快车']['city_name'].value_counts()"
   ]
  },
  {
   "cell_type": "code",
   "execution_count": 39,
   "metadata": {},
   "outputs": [],
   "source": [
    "# 剔除出租车和快车，其它车型中巴士归为一类（组团用车），于经济型，商务型，舒适性，豪华型并列……\n",
    "# 绘制堆叠面积图（基于总订单数相对稳定,且排除出租车订单波动对整体订单数造成的影响）\n",
    "order_car_type_list_short = ['经济型','舒适型','商务型','豪华型','组团用车']"
   ]
  },
  {
   "cell_type": "code",
   "execution_count": 40,
   "metadata": {},
   "outputs": [],
   "source": [
    "def trans_new_car_type(v):\n",
    "    new_car_type = None\n",
    "    if v in ('10座小巴','8座小巴','15座中巴','25座中巴','35座大巴','头等舱','20座中巴'):\n",
    "        new_car_type = '组团用车'\n",
    "    elif v not in ('出租车','快车'):\n",
    "        new_car_type = v\n",
    "    return new_car_type"
   ]
  },
  {
   "cell_type": "code",
   "execution_count": 41,
   "metadata": {},
   "outputs": [],
   "source": [
    "df_user_order_detail['order_car_type_new'] = df_user_order_detail['order_car_type_name'].apply(trans_new_car_type)"
   ]
  },
  {
   "cell_type": "code",
   "execution_count": 42,
   "metadata": {},
   "outputs": [],
   "source": [
    "df_user_order_detail_1 = df_user_order_detail[~df_user_order_detail['order_car_type_new'].isna()]"
   ]
  },
  {
   "cell_type": "code",
   "execution_count": 43,
   "metadata": {},
   "outputs": [],
   "source": [
    "def se_order_car_type_each_month(car_type_new):\n",
    "    se_empty = pd.Series([0 for t in range(0,12)],index=df_service_type_each_month.xs(1).index)\n",
    "    se_v = df_user_order_detail_1[df_user_order_detail_1['order_car_type_new']==car_type_new]['book_month'].value_counts().sort_index()\n",
    "    se_output = (se_empty+se_v).fillna(0).astype('int32',errors='ignore')\n",
    "    return se_output"
   ]
  },
  {
   "cell_type": "code",
   "execution_count": 44,
   "metadata": {},
   "outputs": [
    {
     "data": {
      "text/plain": [
       "<matplotlib.legend.Legend at 0x16e4c2524e0>"
      ]
     },
     "execution_count": 44,
     "metadata": {},
     "output_type": "execute_result"
    },
    {
     "data": {
      "image/png": "[encoded data removed]",
      "text/plain": [
       "<Figure size 1008x576 with 1 Axes>"
      ]
     },
     "metadata": {
      "needs_background": "light"
     },
     "output_type": "display_data"
    }
   ],
   "source": [
    "plt.figure(figsize=(14,8))\n",
    "car_type_colors=['skyblue','pink','grey','gold','black']\n",
    "x = df_service_type_each_month.xs(1).index\n",
    "y_budget = se_order_car_type_each_month('经济型')\n",
    "y_comfortable = se_order_car_type_each_month('舒适型')\n",
    "y_business = se_order_car_type_each_month('商务型')\n",
    "y_luxury = se_order_car_type_each_month('豪华型')\n",
    "y_group = se_order_car_type_each_month('组团用车')\n",
    "plt.stackplot(x,y_budget,y_comfortable,y_business,y_luxury,y_group,labels=order_car_type_list_short,colors=car_type_colors)\n",
    "plt.xticks(x,labels=df_service_type_each_month.xs(1).index)\n",
    "plt.legend(loc='best',labels=order_car_type_list_short)"
   ]
  },
  {
   "cell_type": "code",
   "execution_count": 45,
   "metadata": {},
   "outputs": [
    {
     "data": {
      "text/plain": [
       "order_month\n",
       "1     False\n",
       "2     False\n",
       "3     False\n",
       "4     False\n",
       "5     False\n",
       "6     False\n",
       "7      True\n",
       "8      True\n",
       "9     False\n",
       "10    False\n",
       "11    False\n",
       "12    False\n",
       "dtype: bool"
      ]
     },
     "execution_count": 45,
     "metadata": {},
     "output_type": "execute_result"
    }
   ],
   "source": [
    "y_comfortable > y_budget"
   ]
  },
  {
   "cell_type": "code",
   "execution_count": 74,
   "metadata": {},
   "outputs": [
    {
     "data": {
      "image/png": "[encoded data removed]",
      "text/plain": [
       "<Figure size 1440x576 with 5 Axes>"
      ]
     },
     "metadata": {},
     "output_type": "display_data"
    }
   ],
   "source": [
    "se_car_type_groupby_service_type = df_user_order_detail_1.groupby(['service_type_name','order_car_type_new']).count()['trade_order_id']\n",
    "fig = plt.figure(figsize=(20,8))\n",
    "for i,service_type in enumerate(service_type_name_list):\n",
    "    aex = fig.add_subplot(1,5,(i+1))\n",
    "    se_empty = pd.Series([0 for order_car_type in order_car_type_list_short],index=order_car_type_list_short)\n",
    "    x_car_type_count = (se_empty+se_car_type_groupby_service_type[service_type]).fillna(0).sort_values(ascending=False)\n",
    "    plt.pie(x_car_type_count,colors=car_type_colors,startangle=90)\n",
    "    plt.title(f'{service_type} 业务各车型占比')\n",
    "    plt.legend(labels=[f\"{car_type}:{str(round((x_car_type_count[car_type]/x_car_type_count.sum())*100,2))}%\" for m,car_type in enumerate(order_car_type_list_short)],\n",
    "           bbox_to_anchor=(0,0),loc=2,borderaxespad=0)"
   ]
  },
  {
   "cell_type": "markdown",
   "metadata": {},
   "source": [
    "##### 出租车服务订单全部用于城市交通（时租），7,8月订单数明显更高(6月订单仍在进行中，但已突出其它月份)；\n",
    "##### 快车服务订单全部用于接机，除北京外，其他城市的订单极少（或没有）；\n",
    "##### 在7,8月，舒适型车比经济型车更受欢迎，其他时间经济型订单数量更多；\n",
    "##### 除开快车和出租车，在所有用车类型分布上，经济型和舒适型订单占大部分，商务型次之，豪华型和组团用车订单量很少；\n",
    "##### 机场接送业务中，经济型和舒适型差距不算很大，而在车站业务中经济型订单数成倍多于舒适型；城市交通中经济型也远远高出其它车型；在车站接送中的商务型订单高于机场接送和城市交通\n",
    "##### 整体订单数上接客服务多于送客服务，送客服务更多选择经济型，接客服务则更多选择其他类型"
   ]
  },
  {
   "cell_type": "code",
   "execution_count": 75,
   "metadata": {},
   "outputs": [
    {
     "data": {
      "text/plain": [
       "接机          1887\n",
       "城市交通（时租）    1183\n",
       "送机           889\n",
       "接站           374\n",
       "送站           100\n",
       "Name: service_type_name, dtype: int64"
      ]
     },
     "execution_count": 75,
     "metadata": {},
     "output_type": "execute_result"
    }
   ],
   "source": [
    "# 当日用车订单数\n",
    "df_user_order_detail[df_user_order_detail['use_immediate']==1]['service_type_name'].value_counts()"
   ]
  },
  {
   "cell_type": "code",
   "execution_count": 76,
   "metadata": {},
   "outputs": [
    {
     "data": {
      "text/plain": [
       "送机          2490\n",
       "接机          2366\n",
       "送站           269\n",
       "接站           249\n",
       "城市交通（时租）     193\n",
       "Name: service_type_name, dtype: int64"
      ]
     },
     "execution_count": 76,
     "metadata": {},
     "output_type": "execute_result"
    }
   ],
   "source": [
    "# 非当日用车订单数\n",
    "df_user_order_detail[df_user_order_detail['use_immediate']==0]['service_type_name'].value_counts()"
   ]
  },
  {
   "cell_type": "code",
   "execution_count": 77,
   "metadata": {},
   "outputs": [
    {
     "data": {
      "text/plain": [
       "接机          2950\n",
       "送机          2235\n",
       "城市交通（时租）     910\n",
       "接站           418\n",
       "送站           261\n",
       "Name: service_type_name, dtype: int64"
      ]
     },
     "execution_count": 77,
     "metadata": {},
     "output_type": "execute_result"
    }
   ],
   "source": [
    "df_user_order_detail[df_user_order_detail['is_bookdate_holiday']==0]['service_type_name'].value_counts()"
   ]
  },
  {
   "cell_type": "code",
   "execution_count": 78,
   "metadata": {},
   "outputs": [
    {
     "data": {
      "text/plain": [
       "接机          1303\n",
       "送机          1144\n",
       "城市交通（时租）     466\n",
       "接站           205\n",
       "送站           108\n",
       "Name: service_type_name, dtype: int64"
      ]
     },
     "execution_count": 78,
     "metadata": {},
     "output_type": "execute_result"
    }
   ],
   "source": [
    "df_user_order_detail[df_user_order_detail['is_bookdate_holiday']==1]['service_type_name'].value_counts()"
   ]
  },
  {
   "cell_type": "code",
   "execution_count": 79,
   "metadata": {},
   "outputs": [
    {
     "data": {
      "text/plain": [
       "<matplotlib.legend.Legend at 0x16e4e6427b8>"
      ]
     },
     "execution_count": 79,
     "metadata": {},
     "output_type": "execute_result"
    },
    {
     "data": {
      "image/png": "[encoded data removed]",
      "text/plain": [
       "<Figure size 1440x576 with 2 Axes>"
      ]
     },
     "metadata": {
      "needs_background": "light"
     },
     "output_type": "display_data"
    }
   ],
   "source": [
    "fig = plt.figure(figsize=(20,8))\n",
    "\n",
    "axes1 = fig.add_subplot(121)\n",
    "se_非当日用车笔数月份统计_用车日期顺序 = df_user_order_detail[df_user_order_detail['use_immediate']==0]['book_month'].value_counts()\n",
    "se_当日用车笔数月份统计_用车日期顺序 = df_user_order_detail[df_user_order_detail['use_immediate']==1]['book_month'].value_counts()\n",
    "y_0 = pd.concat([se_非当日用车笔数月份统计_用车日期顺序.sort_index()[6:],se_非当日用车笔数月份统计_用车日期顺序.sort_index()[:6]])\n",
    "y_1 = pd.concat([se_当日用车笔数月份统计_用车日期顺序.sort_index()[6:],se_当日用车笔数月份统计_用车日期顺序.sort_index()[:6]])\n",
    "y_2 = pd.concat([df_user_order_detail['book_month'].value_counts().sort_index()[6:],\n",
    "                df_user_order_detail['book_month'].value_counts().sort_index()[:6]])\n",
    "x1 = np.arange(1,13)\n",
    "x2 = x1+0.25\n",
    "plt.bar(x1,y_0,width=0.25,color='orange',tick_label=y_0.index.to_list(),label='非当日用车')\n",
    "plt.bar(x2,y_1,width=0.25,color='red',label='当日用车')\n",
    "plt.plot(x1,y_2,label='用车总数',color='purple')\n",
    "plt.xlabel('月份')\n",
    "plt.ylabel('订单数')\n",
    "plt.xticks(ticks=x1,labels=y_0.index.to_list(),rotation=0)\n",
    "plt.legend(bbox_to_anchor=(1,0),loc=3,borderaxespad=0)\n",
    "\n",
    "axes1 = fig.add_subplot(122)\n",
    "se_非工作日用车笔数月份统计_用车日期顺序 = df_user_order_detail[df_user_order_detail['is_bookdate_holiday']==1]['book_month'].value_counts()\n",
    "se_工作日用车笔数月份统计_用车日期顺序 = df_user_order_detail[df_user_order_detail['is_bookdate_holiday']==0]['book_month'].value_counts()\n",
    "y_3 = pd.concat([se_非工作日用车笔数月份统计_用车日期顺序.sort_index()[6:],se_非工作日用车笔数月份统计_用车日期顺序.sort_index()[:6]])\n",
    "y_4 = pd.concat([se_工作日用车笔数月份统计_用车日期顺序.sort_index()[6:],se_工作日用车笔数月份统计_用车日期顺序.sort_index()[:6]])\n",
    "x1 = np.arange(1,13)\n",
    "x2 = x1+0.25\n",
    "plt.bar(x1,y_3,width=0.25,color='orange',tick_label=y_0.index.to_list(),label='非工作日用车')\n",
    "plt.bar(x2,y_4,width=0.25,color='red',label='工作日用车')\n",
    "plt.plot(x1,y_2,label='用车总数',color='purple')\n",
    "plt.xlabel('月份')\n",
    "plt.ylabel('订单数')\n",
    "plt.xticks(ticks=x1,labels=y_0.index.to_list(),rotation=0)\n",
    "plt.legend(bbox_to_anchor=(1,0),loc=3,borderaxespad=0)"
   ]
  },
  {
   "cell_type": "code",
   "execution_count": 80,
   "metadata": {},
   "outputs": [
    {
     "data": {
      "text/plain": [
       "Text(0.5, 1.0, '非工作日用车各车型比例')"
      ]
     },
     "execution_count": 80,
     "metadata": {},
     "output_type": "execute_result"
    },
    {
     "data": {
      "image/png": "[encoded data removed]",
      "text/plain": [
       "<Figure size 1008x576 with 4 Axes>"
      ]
     },
     "metadata": {},
     "output_type": "display_data"
    }
   ],
   "source": [
    "fig = plt.figure(figsize=(14,8))\n",
    "axes1 = fig.add_subplot(2,2,1)\n",
    "x_not_use_immediate = df_user_order_detail_1[df_user_order_detail_1['use_immediate']==0]['order_car_type_new'].value_counts().sort_values(ascending=False)\n",
    "plt.pie(x_not_use_immediate,colors=car_type_colors,startangle=90)\n",
    "plt.legend(labels=[f\"{car_type}:{str(round((x_not_use_immediate[car_type]/x_not_use_immediate.sum())*100,2))}%\" for m,car_type in enumerate(order_car_type_list_short)],\n",
    "           bbox_to_anchor=(1,0),loc=3,borderaxespad=0)\n",
    "plt.title('非当日用车各车型比例')\n",
    "\n",
    "axes2 = fig.add_subplot(2,2,2)\n",
    "x_use_immediate = df_user_order_detail_1[df_user_order_detail_1['use_immediate']==1]['order_car_type_new'].value_counts().sort_values(ascending=False)\n",
    "plt.pie(x_use_immediate,colors=car_type_colors,startangle=90)\n",
    "plt.legend(labels=[f\"{car_type}:{str(round((x_use_immediate[car_type]/x_use_immediate.sum())*100,2))}%\" for m,car_type in enumerate(order_car_type_list_short)],\n",
    "           bbox_to_anchor=(1,0),loc=3,borderaxespad=0)\n",
    "plt.title('当日用车各车型比例')\n",
    "\n",
    "axes3 = fig.add_subplot(2,2,3)\n",
    "x_booked_workday = df_user_order_detail_1[df_user_order_detail_1['is_bookdate_holiday']==0]['order_car_type_new'].value_counts().sort_values(ascending=False)\n",
    "plt.pie(x_booked_workday,colors=car_type_colors,startangle=90)\n",
    "plt.legend(labels=[f\"{car_type}:{str(round((x_booked_workday[car_type]/x_booked_workday.sum())*100,2))}%\" for m,car_type in enumerate(order_car_type_list_short)],\n",
    "           bbox_to_anchor=(1,0),loc=3,borderaxespad=0)\n",
    "plt.title('工作日用车各车型比例')\n",
    "\n",
    "axes4 = fig.add_subplot(2,2,4)\n",
    "x_booked_holiday = df_user_order_detail_1[df_user_order_detail_1['is_bookdate_holiday']==1]['order_car_type_new'].value_counts().sort_values(ascending=False)\n",
    "plt.pie(x_not_use_immediate,colors=car_type_colors,startangle=90)\n",
    "plt.legend(labels=[f\"{car_type}:{str(round((x_booked_holiday[car_type]/x_booked_holiday.sum())*100,2))}%\" for m,car_type in enumerate(order_car_type_list_short)],\n",
    "           bbox_to_anchor=(1,0),loc=3,borderaxespad=0)\n",
    "plt.title('非工作日用车各车型比例')"
   ]
  },
  {
   "cell_type": "code",
   "execution_count": 81,
   "metadata": {},
   "outputs": [
    {
     "data": {
      "image/png": "[encoded data removed]",
      "text/plain": [
       "<Figure size 1224x432 with 3 Axes>"
      ]
     },
     "metadata": {},
     "output_type": "display_data"
    }
   ],
   "source": [
    "fig = plt.figure(figsize=(17,6))\n",
    "color_list = [['gray','lightskyblue'],['gray','lightskyblue'],['red','orange']]\n",
    "labels = [['工作日','休息日'],['工作日','休息日'],['当日用车','非当日用车']]\n",
    "# x = np.arange(0, 100)  \n",
    "for i,col in enumerate(['is_bookdate_holiday','is_orderdate_holiday','use_immediate']):\n",
    "    axes = fig.add_subplot(1,3,int(i+1))\n",
    "    x = df_user_order_detail[col].value_counts()\n",
    "    plt.pie(x,autopct='%1.2f%%',labels=labels[i],colors=color_list[i],startangle=90)\n",
    "    axes.legend(loc='best')\n",
    "plt.show()"
   ]
  },
  {
   "cell_type": "markdown",
   "metadata": {},
   "source": [
    "##### 工作日用车多于非工作日用车(无论哪种业务类型)；\n",
    "##### 工作日和非工作日及是否当日用车对经济型，舒适型，商务型和豪华型车选择影响有限，但组团用车在非工作日提升较多，并且多为非当日用车；\n",
    "##### 当日用车接客订单数大于送客订单数，非当日用车则反之；\n",
    "##### 城市交通订单中大多数为当日用车；6,7,8月外，当日用车订单数有所下降（疑似天气转凉，城市交通用车需求下降所致）；"
   ]
  }
 ],
 "metadata": {
  "kernelspec": {
   "display_name": "Python 3",
   "language": "python",
   "name": "python3"
  },
  "language_info": {
   "codemirror_mode": {
    "name": "ipython",
    "version": 3
   },
   "file_extension": ".py",
   "mimetype": "text/x-python",
   "name": "python",
   "nbconvert_exporter": "python",
   "pygments_lexer": "ipython3",
   "version": "3.7.3"
  }
 },
 "nbformat": 4,
 "nbformat_minor": 2
}
