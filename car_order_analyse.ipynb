{
 "cells": [
  {
   "cell_type": "code",
   "execution_count": 1,
   "metadata": {},
   "outputs": [],
   "source": [
    "import numpy as np\n",
    "import pandas as pd\n",
    "from matplotlib import pyplot as plt\n",
    "import csv\n",
    "import requests\n",
    "\n",
    "import datetime\n",
    "import time\n",
    "from chinese_calendar import is_holiday\n",
    "import calendar\n",
    "\n",
    "from pandas.api.types import CategoricalDtype"
   ]
  },
  {
   "cell_type": "code",
   "execution_count": 2,
   "metadata": {},
   "outputs": [],
   "source": [
    "%matplotlib inline"
   ]
  },
  {
   "cell_type": "code",
   "execution_count": 3,
   "metadata": {},
   "outputs": [],
   "source": [
    "df_user_order_detail = pd.read_csv(r'../input/car8865/用户基础数据.csv',\n",
    "                              dtype={'trade_order_id':object,'uid':object,'gid':object,'passenger_phone':object,'platform':object,\n",
    "                                    'service_type':int,'service_type_name':object,'order_status':int,'order_status_name':object,\n",
    "                                    'order_day':object,'book_day':object,'order_car_type_id':int,'order_car_type_name':object,\n",
    "                                    'city_code':object,'city_name':object,'channel_id':int,'channel_name':object,\n",
    "                                    'first_token_driver_taken_type':object,'first_token_driver_taken_type':object,'order_car_type_id':int,\n",
    "                                     'order_car_type_name':object,'source_type':int,'source_type_name':object},encoding='utf-8')"
   ]
  },
  {
   "cell_type": "code",
   "execution_count": 4,
   "metadata": {},
   "outputs": [
    {
     "data": {
      "text/html": [
       "<div>\n",
       "<style scoped>\n",
       "    .dataframe tbody tr th:only-of-type {\n",
       "        vertical-align: middle;\n",
       "    }\n",
       "\n",
       "    .dataframe tbody tr th {\n",
       "        vertical-align: top;\n",
       "    }\n",
       "\n",
       "    .dataframe thead th {\n",
       "        text-align: right;\n",
       "    }\n",
       "</style>\n",
       "<table border=\"1\" class=\"dataframe\">\n",
       "  <thead>\n",
       "    <tr style=\"text-align: right;\">\n",
       "      <th></th>\n",
       "      <th>trade_order_id</th>\n",
       "      <th>uid</th>\n",
       "      <th>gid</th>\n",
       "      <th>passenger_phone</th>\n",
       "      <th>platform</th>\n",
       "      <th>service_type</th>\n",
       "      <th>service_type_name</th>\n",
       "      <th>order_status</th>\n",
       "      <th>order_status_name</th>\n",
       "      <th>order_day</th>\n",
       "      <th>...</th>\n",
       "      <th>city_code</th>\n",
       "      <th>city_name</th>\n",
       "      <th>channel_id</th>\n",
       "      <th>channel_name</th>\n",
       "      <th>first_taken_driver_taken_type</th>\n",
       "      <th>first_taken_driver_taken_type_name</th>\n",
       "      <th>order_car_type_id.1</th>\n",
       "      <th>order_car_type_name.1</th>\n",
       "      <th>source_type</th>\n",
       "      <th>source_type_name</th>\n",
       "    </tr>\n",
       "  </thead>\n",
       "  <tbody>\n",
       "    <tr>\n",
       "      <td>0</td>\n",
       "      <td>E181619485232</td>\n",
       "      <td>868385039047457</td>\n",
       "      <td>BB7C5279-95E1-DA88-EC0D-9A358E56AB73</td>\n",
       "      <td>186VU265589</td>\n",
       "      <td>Q</td>\n",
       "      <td>3</td>\n",
       "      <td>城市交通（时租）</td>\n",
       "      <td>7</td>\n",
       "      <td>已确认款项</td>\n",
       "      <td>2018-08-11</td>\n",
       "      <td>...</td>\n",
       "      <td>sanya</td>\n",
       "      <td>三亚</td>\n",
       "      <td>60</td>\n",
       "      <td>Android</td>\n",
       "      <td>100</td>\n",
       "      <td>OTA司机接单</td>\n",
       "      <td>99</td>\n",
       "      <td>出租车</td>\n",
       "      <td>12</td>\n",
       "      <td>OTA</td>\n",
       "    </tr>\n",
       "    <tr>\n",
       "      <td>1</td>\n",
       "      <td>E181645360215</td>\n",
       "      <td>E7663F36-6C35-4DDA-BEB3-2897F4ED35BC</td>\n",
       "      <td>69093625-85FA-A7B7-F485-0C8AB5404A88</td>\n",
       "      <td>139svlo3695</td>\n",
       "      <td>Q</td>\n",
       "      <td>3</td>\n",
       "      <td>城市交通（时租）</td>\n",
       "      <td>7</td>\n",
       "      <td>已确认款项</td>\n",
       "      <td>2018-09-06</td>\n",
       "      <td>...</td>\n",
       "      <td>shanghai_city</td>\n",
       "      <td>上海</td>\n",
       "      <td>80</td>\n",
       "      <td>iPhone</td>\n",
       "      <td>100</td>\n",
       "      <td>OTA司机接单</td>\n",
       "      <td>5</td>\n",
       "      <td>商务型</td>\n",
       "      <td>12</td>\n",
       "      <td>OTA</td>\n",
       "    </tr>\n",
       "    <tr>\n",
       "      <td>2</td>\n",
       "      <td>E181680198260</td>\n",
       "      <td>866229036251187</td>\n",
       "      <td>9AA77171-6B71-0946-0D7A-A21D4DCE2873</td>\n",
       "      <td>186r8ar1007</td>\n",
       "      <td>Q</td>\n",
       "      <td>3</td>\n",
       "      <td>城市交通（时租）</td>\n",
       "      <td>7</td>\n",
       "      <td>已确认款项</td>\n",
       "      <td>2018-10-11</td>\n",
       "      <td>...</td>\n",
       "      <td>wuhan</td>\n",
       "      <td>武汉</td>\n",
       "      <td>60</td>\n",
       "      <td>Android</td>\n",
       "      <td>100</td>\n",
       "      <td>OTA司机接单</td>\n",
       "      <td>99</td>\n",
       "      <td>出租车</td>\n",
       "      <td>12</td>\n",
       "      <td>OTA</td>\n",
       "    </tr>\n",
       "    <tr>\n",
       "      <td>3</td>\n",
       "      <td>E181781813380</td>\n",
       "      <td>866693026884317</td>\n",
       "      <td>0EC31567-3910-FA5F-4B13-B1C8FB262628</td>\n",
       "      <td>138gNTQ9157</td>\n",
       "      <td>Q</td>\n",
       "      <td>3</td>\n",
       "      <td>城市交通（时租）</td>\n",
       "      <td>8</td>\n",
       "      <td>取消</td>\n",
       "      <td>2019-01-20</td>\n",
       "      <td>...</td>\n",
       "      <td>nanjing</td>\n",
       "      <td>南京</td>\n",
       "      <td>60</td>\n",
       "      <td>Android</td>\n",
       "      <td>100</td>\n",
       "      <td>OTA司机接单</td>\n",
       "      <td>99</td>\n",
       "      <td>出租车</td>\n",
       "      <td>12</td>\n",
       "      <td>OTA</td>\n",
       "    </tr>\n",
       "    <tr>\n",
       "      <td>4</td>\n",
       "      <td>E181787631459</td>\n",
       "      <td>273ECCB0-AA83-4766-8013-C2D22DF0D6A0</td>\n",
       "      <td>97FE372C-B013-A68E-7A17-A44FEAF7E46A</td>\n",
       "      <td>182tpRS3656</td>\n",
       "      <td>Q</td>\n",
       "      <td>2</td>\n",
       "      <td>接机</td>\n",
       "      <td>8</td>\n",
       "      <td>取消</td>\n",
       "      <td>2019-01-26</td>\n",
       "      <td>...</td>\n",
       "      <td>shenyang</td>\n",
       "      <td>沈阳</td>\n",
       "      <td>80</td>\n",
       "      <td>iPhone</td>\n",
       "      <td>100</td>\n",
       "      <td>OTA司机接单</td>\n",
       "      <td>2</td>\n",
       "      <td>舒适型</td>\n",
       "      <td>12</td>\n",
       "      <td>OTA</td>\n",
       "    </tr>\n",
       "  </tbody>\n",
       "</table>\n",
       "<p>5 rows × 25 columns</p>\n",
       "</div>"
      ],
      "text/plain": [
       "  trade_order_id                                   uid  \\\n",
       "0  E181619485232                       868385039047457   \n",
       "1  E181645360215  E7663F36-6C35-4DDA-BEB3-2897F4ED35BC   \n",
       "2  E181680198260                       866229036251187   \n",
       "3  E181781813380                       866693026884317   \n",
       "4  E181787631459  273ECCB0-AA83-4766-8013-C2D22DF0D6A0   \n",
       "\n",
       "                                    gid passenger_phone platform  \\\n",
       "0  BB7C5279-95E1-DA88-EC0D-9A358E56AB73     186VU265589        Q   \n",
       "1  69093625-85FA-A7B7-F485-0C8AB5404A88     139svlo3695        Q   \n",
       "2  9AA77171-6B71-0946-0D7A-A21D4DCE2873     186r8ar1007        Q   \n",
       "3  0EC31567-3910-FA5F-4B13-B1C8FB262628     138gNTQ9157        Q   \n",
       "4  97FE372C-B013-A68E-7A17-A44FEAF7E46A     182tpRS3656        Q   \n",
       "\n",
       "   service_type service_type_name  order_status order_status_name   order_day  \\\n",
       "0             3          城市交通（时租）             7             已确认款项  2018-08-11   \n",
       "1             3          城市交通（时租）             7             已确认款项  2018-09-06   \n",
       "2             3          城市交通（时租）             7             已确认款项  2018-10-11   \n",
       "3             3          城市交通（时租）             8                取消  2019-01-20   \n",
       "4             2                接机             8                取消  2019-01-26   \n",
       "\n",
       "   ...      city_code  city_name channel_id  channel_name  \\\n",
       "0  ...          sanya         三亚         60       Android   \n",
       "1  ...  shanghai_city         上海         80        iPhone   \n",
       "2  ...          wuhan         武汉         60       Android   \n",
       "3  ...        nanjing         南京         60       Android   \n",
       "4  ...       shenyang         沈阳         80        iPhone   \n",
       "\n",
       "  first_taken_driver_taken_type first_taken_driver_taken_type_name  \\\n",
       "0                           100                            OTA司机接单   \n",
       "1                           100                            OTA司机接单   \n",
       "2                           100                            OTA司机接单   \n",
       "3                           100                            OTA司机接单   \n",
       "4                           100                            OTA司机接单   \n",
       "\n",
       "  order_car_type_id.1  order_car_type_name.1 source_type  source_type_name  \n",
       "0                  99                    出租车          12               OTA  \n",
       "1                   5                    商务型          12               OTA  \n",
       "2                  99                    出租车          12               OTA  \n",
       "3                  99                    出租车          12               OTA  \n",
       "4                   2                    舒适型          12               OTA  \n",
       "\n",
       "[5 rows x 25 columns]"
      ]
     },
     "execution_count": 4,
     "metadata": {},
     "output_type": "execute_result"
    }
   ],
   "source": [
    "df_user_order_detail.head()"
   ]
  },
  {
   "cell_type": "code",
   "execution_count": 5,
   "metadata": {},
   "outputs": [
    {
     "name": "stdout",
     "output_type": "stream",
     "text": [
      "<class 'pandas.core.frame.DataFrame'>\n",
      "RangeIndex: 10000 entries, 0 to 9999\n",
      "Data columns (total 25 columns):\n",
      "trade_order_id                        10000 non-null object\n",
      "uid                                   10000 non-null object\n",
      "gid                                   10000 non-null object\n",
      "passenger_phone                       10000 non-null object\n",
      "platform                              10000 non-null object\n",
      "service_type                          10000 non-null int32\n",
      "service_type_name                     10000 non-null object\n",
      "order_status                          10000 non-null int32\n",
      "order_status_name                     10000 non-null object\n",
      "order_day                             10000 non-null object\n",
      "book_day                              10000 non-null object\n",
      "order_car_type_id                     10000 non-null int32\n",
      "order_car_type_name                   10000 non-null object\n",
      "order_order_class_id                  10000 non-null int64\n",
      "order_order_class_name                10000 non-null object\n",
      "city_code                             10000 non-null object\n",
      "city_name                             10000 non-null object\n",
      "channel_id                            10000 non-null int32\n",
      "channel_name                          10000 non-null object\n",
      "first_taken_driver_taken_type         10000 non-null int64\n",
      "first_taken_driver_taken_type_name    10000 non-null object\n",
      "order_car_type_id.1                   10000 non-null int64\n",
      "order_car_type_name.1                 10000 non-null object\n",
      "source_type                           10000 non-null int32\n",
      "source_type_name                      10000 non-null object\n",
      "dtypes: int32(5), int64(3), object(17)\n",
      "memory usage: 1.7+ MB\n"
     ]
    }
   ],
   "source": [
    "df_user_order_detail.info()"
   ]
  },
  {
   "cell_type": "code",
   "execution_count": 6,
   "metadata": {
    "scrolled": true
   },
   "outputs": [
    {
     "data": {
      "text/plain": [
       "False    10000\n",
       "dtype: int64"
      ]
     },
     "execution_count": 6,
     "metadata": {},
     "output_type": "execute_result"
    }
   ],
   "source": [
    "df_user_order_detail.duplicated().value_counts()"
   ]
  },
  {
   "cell_type": "code",
   "execution_count": 7,
   "metadata": {},
   "outputs": [
    {
     "data": {
      "text/plain": [
       "(0, 25)"
      ]
     },
     "execution_count": 7,
     "metadata": {},
     "output_type": "execute_result"
    }
   ],
   "source": [
    "df_na = df_user_order_detail[df_user_order_detail.apply(lambda x:x==0) | (df_user_order_detail.apply(lambda x:x==0))].dropna(axis=0,how='all')\n",
    "df_na.shape"
   ]
  },
  {
   "cell_type": "code",
   "execution_count": 8,
   "metadata": {},
   "outputs": [],
   "source": [
    "def date_extension(row):     # 如有必要，可通过ProcessPoolExecutor加速\n",
    "    use_immediate = 1 if row['order_day'] == row['book_day'] else 0\n",
    "    order_date_tuple = time.strptime(row['order_day'],'%Y-%m-%d')[:3]\n",
    "    book_date_tuple = time.strptime(row['book_day'],'%Y-%m-%d')[:3]\n",
    "#     order_month = month_short_list[order_date_tuple[1]-1]\n",
    "    order_month = order_date_tuple[1]\n",
    "#     book_month = month_short_list[book_date_tuple[1]-1]\n",
    "    book_month = book_date_tuple[1]\n",
    "    r_order_date = 1 if is_holiday(datetime.date(order_date_tuple[0],order_date_tuple[1],order_date_tuple[2])) else 0\n",
    "    r_book_date = 1 if is_holiday(datetime.date(book_date_tuple[0],book_date_tuple[1],book_date_tuple[2])) else 0\n",
    "    return r_order_date,r_book_date,use_immediate,order_month,book_month"
   ]
  },
  {
   "cell_type": "code",
   "execution_count": 9,
   "metadata": {},
   "outputs": [],
   "source": [
    "df_user_order_detail[['is_bookdate_holiday','is_orderdate_holiday','use_immediate','order_month','book_month']] = df_user_order_detail.apply(date_extension,axis=1,result_type='expand')"
   ]
  },
  {
   "cell_type": "code",
   "execution_count": 10,
   "metadata": {},
   "outputs": [
    {
     "name": "stdout",
     "output_type": "stream",
     "text": [
      "<class 'pandas.core.frame.DataFrame'>\n",
      "RangeIndex: 10000 entries, 0 to 9999\n",
      "Data columns (total 30 columns):\n",
      "trade_order_id                        10000 non-null object\n",
      "uid                                   10000 non-null object\n",
      "gid                                   10000 non-null object\n",
      "passenger_phone                       10000 non-null object\n",
      "platform                              10000 non-null object\n",
      "service_type                          10000 non-null int32\n",
      "service_type_name                     10000 non-null object\n",
      "order_status                          10000 non-null int32\n",
      "order_status_name                     10000 non-null object\n",
      "order_day                             10000 non-null object\n",
      "book_day                              10000 non-null object\n",
      "order_car_type_id                     10000 non-null int32\n",
      "order_car_type_name                   10000 non-null object\n",
      "order_order_class_id                  10000 non-null int64\n",
      "order_order_class_name                10000 non-null object\n",
      "city_code                             10000 non-null object\n",
      "city_name                             10000 non-null object\n",
      "channel_id                            10000 non-null int32\n",
      "channel_name                          10000 non-null object\n",
      "first_taken_driver_taken_type         10000 non-null int64\n",
      "first_taken_driver_taken_type_name    10000 non-null object\n",
      "order_car_type_id.1                   10000 non-null int64\n",
      "order_car_type_name.1                 10000 non-null object\n",
      "source_type                           10000 non-null int32\n",
      "source_type_name                      10000 non-null object\n",
      "is_bookdate_holiday                   10000 non-null int64\n",
      "is_orderdate_holiday                  10000 non-null int64\n",
      "use_immediate                         10000 non-null int64\n",
      "order_month                           10000 non-null int64\n",
      "book_month                            10000 non-null int64\n",
      "dtypes: int32(5), int64(8), object(17)\n",
      "memory usage: 2.1+ MB\n"
     ]
    }
   ],
   "source": [
    "df_user_order_detail.info()"
   ]
  },
  {
   "cell_type": "code",
   "execution_count": 412,
   "metadata": {},
   "outputs": [
    {
     "data": {
      "text/html": [
       "<div>\n",
       "<style scoped>\n",
       "    .dataframe tbody tr th:only-of-type {\n",
       "        vertical-align: middle;\n",
       "    }\n",
       "\n",
       "    .dataframe tbody tr th {\n",
       "        vertical-align: top;\n",
       "    }\n",
       "\n",
       "    .dataframe thead th {\n",
       "        text-align: right;\n",
       "    }\n",
       "</style>\n",
       "<table border=\"1\" class=\"dataframe\">\n",
       "  <thead>\n",
       "    <tr style=\"text-align: right;\">\n",
       "      <th></th>\n",
       "      <th>is_bookdate_holiday</th>\n",
       "      <th>is_orderdate_holiday</th>\n",
       "      <th>use_immediate</th>\n",
       "      <th>order_month</th>\n",
       "      <th>book_month</th>\n",
       "    </tr>\n",
       "  </thead>\n",
       "  <tbody>\n",
       "    <tr>\n",
       "      <td>0</td>\n",
       "      <td>1</td>\n",
       "      <td>1</td>\n",
       "      <td>1</td>\n",
       "      <td>8</td>\n",
       "      <td>8</td>\n",
       "    </tr>\n",
       "    <tr>\n",
       "      <td>1</td>\n",
       "      <td>0</td>\n",
       "      <td>0</td>\n",
       "      <td>1</td>\n",
       "      <td>9</td>\n",
       "      <td>9</td>\n",
       "    </tr>\n",
       "    <tr>\n",
       "      <td>2</td>\n",
       "      <td>0</td>\n",
       "      <td>0</td>\n",
       "      <td>1</td>\n",
       "      <td>10</td>\n",
       "      <td>10</td>\n",
       "    </tr>\n",
       "    <tr>\n",
       "      <td>3</td>\n",
       "      <td>1</td>\n",
       "      <td>1</td>\n",
       "      <td>1</td>\n",
       "      <td>1</td>\n",
       "      <td>1</td>\n",
       "    </tr>\n",
       "    <tr>\n",
       "      <td>4</td>\n",
       "      <td>1</td>\n",
       "      <td>0</td>\n",
       "      <td>0</td>\n",
       "      <td>1</td>\n",
       "      <td>2</td>\n",
       "    </tr>\n",
       "    <tr>\n",
       "      <td>...</td>\n",
       "      <td>...</td>\n",
       "      <td>...</td>\n",
       "      <td>...</td>\n",
       "      <td>...</td>\n",
       "      <td>...</td>\n",
       "    </tr>\n",
       "    <tr>\n",
       "      <td>9995</td>\n",
       "      <td>0</td>\n",
       "      <td>0</td>\n",
       "      <td>0</td>\n",
       "      <td>8</td>\n",
       "      <td>8</td>\n",
       "    </tr>\n",
       "    <tr>\n",
       "      <td>9996</td>\n",
       "      <td>1</td>\n",
       "      <td>1</td>\n",
       "      <td>0</td>\n",
       "      <td>10</td>\n",
       "      <td>10</td>\n",
       "    </tr>\n",
       "    <tr>\n",
       "      <td>9997</td>\n",
       "      <td>0</td>\n",
       "      <td>0</td>\n",
       "      <td>0</td>\n",
       "      <td>1</td>\n",
       "      <td>1</td>\n",
       "    </tr>\n",
       "    <tr>\n",
       "      <td>9998</td>\n",
       "      <td>0</td>\n",
       "      <td>0</td>\n",
       "      <td>1</td>\n",
       "      <td>5</td>\n",
       "      <td>5</td>\n",
       "    </tr>\n",
       "    <tr>\n",
       "      <td>9999</td>\n",
       "      <td>1</td>\n",
       "      <td>1</td>\n",
       "      <td>0</td>\n",
       "      <td>6</td>\n",
       "      <td>6</td>\n",
       "    </tr>\n",
       "  </tbody>\n",
       "</table>\n",
       "<p>10000 rows × 5 columns</p>\n",
       "</div>"
      ],
      "text/plain": [
       "      is_bookdate_holiday  is_orderdate_holiday  use_immediate  order_month  \\\n",
       "0                       1                     1              1            8   \n",
       "1                       0                     0              1            9   \n",
       "2                       0                     0              1           10   \n",
       "3                       1                     1              1            1   \n",
       "4                       1                     0              0            1   \n",
       "...                   ...                   ...            ...          ...   \n",
       "9995                    0                     0              0            8   \n",
       "9996                    1                     1              0           10   \n",
       "9997                    0                     0              0            1   \n",
       "9998                    0                     0              1            5   \n",
       "9999                    1                     1              0            6   \n",
       "\n",
       "      book_month  \n",
       "0              8  \n",
       "1              9  \n",
       "2             10  \n",
       "3              1  \n",
       "4              2  \n",
       "...          ...  \n",
       "9995           8  \n",
       "9996          10  \n",
       "9997           1  \n",
       "9998           5  \n",
       "9999           6  \n",
       "\n",
       "[10000 rows x 5 columns]"
      ]
     },
     "execution_count": 412,
     "metadata": {},
     "output_type": "execute_result"
    }
   ],
   "source": [
    "df_user_order_detail[['is_bookdate_holiday','is_orderdate_holiday','use_immediate','order_month','book_month']]"
   ]
  },
  {
   "cell_type": "code",
   "execution_count": 164,
   "metadata": {},
   "outputs": [
    {
     "data": {
      "text/plain": [
       "'2018-06-06'"
      ]
     },
     "execution_count": 164,
     "metadata": {},
     "output_type": "execute_result"
    }
   ],
   "source": [
    "df_user_order_detail['order_day'].max()     # 2019-06-06\n",
    "df_user_order_detail['order_day'].min()     # 2018-06-06"
   ]
  },
  {
   "cell_type": "code",
   "execution_count": 11,
   "metadata": {},
   "outputs": [],
   "source": [
    "plt.rcParams['font.sans-serif']=['SimHei']"
   ]
  },
  {
   "cell_type": "code",
   "execution_count": 12,
   "metadata": {},
   "outputs": [
    {
     "data": {
      "image/png": "[encoded data removed]",
      "text/plain": [
       "<Figure size 1224x432 with 3 Axes>"
      ]
     },
     "metadata": {},
     "output_type": "display_data"
    }
   ],
   "source": [
    "fig = plt.figure(figsize=(17,6))\n",
    "color_list = [['gray','lightskyblue'],['gray','lightskyblue'],['red','orange']]\n",
    "labels = [['工作日','休息日'],['工作日','休息日'],['当日用车','非当日用车']]\n",
    "# x = np.arange(0, 100)  \n",
    "for i,col in enumerate(['is_bookdate_holiday','is_orderdate_holiday','use_immediate']):\n",
    "    axes = fig.add_subplot(1,3,int(i+1))\n",
    "    x = df_user_order_detail[col].value_counts()\n",
    "    plt.pie(x,autopct='%1.2f%%',labels=labels[i],colors=color_list[i],startangle=90)\n",
    "    axes.legend(loc='best')\n",
    "plt.show()"
   ]
  },
  {
   "cell_type": "code",
   "execution_count": 118,
   "metadata": {},
   "outputs": [
    {
     "data": {
      "text/plain": [
       "接机          1887\n",
       "城市交通（时租）    1183\n",
       "送机           889\n",
       "接站           374\n",
       "送站           100\n",
       "Name: service_type_name, dtype: int64"
      ]
     },
     "execution_count": 118,
     "metadata": {},
     "output_type": "execute_result"
    }
   ],
   "source": [
    "# 当日用车订单数\n",
    "df_user_order_detail[df_user_order_detail['use_immediate']==1]['service_type_name'].value_counts()"
   ]
  },
  {
   "cell_type": "code",
   "execution_count": 435,
   "metadata": {},
   "outputs": [
    {
     "data": {
      "text/plain": [
       "送机          2490\n",
       "接机          2366\n",
       "送站           269\n",
       "接站           249\n",
       "城市交通（时租）     193\n",
       "Name: service_type_name, dtype: int64"
      ]
     },
     "execution_count": 435,
     "metadata": {},
     "output_type": "execute_result"
    }
   ],
   "source": [
    "# 非当日用车订单数\n",
    "df_user_order_detail[df_user_order_detail['use_immediate']==0]['service_type_name'].value_counts()"
   ]
  },
  {
   "cell_type": "code",
   "execution_count": 524,
   "metadata": {},
   "outputs": [
    {
     "data": {
      "text/plain": [
       "接机          2950\n",
       "送机          2235\n",
       "城市交通（时租）     910\n",
       "接站           418\n",
       "送站           261\n",
       "Name: service_type_name, dtype: int64"
      ]
     },
     "execution_count": 524,
     "metadata": {},
     "output_type": "execute_result"
    }
   ],
   "source": [
    "df_user_order_detail[df_user_order_detail['is_bookdate_holiday']==0]['service_type_name'].value_counts()"
   ]
  },
  {
   "cell_type": "markdown",
   "metadata": {},
   "source": [
    "##### 工作日，当日用车占比相对高\n",
    "##### 当日用车中，接客数量高于送客数量，非当日用车则反之"
   ]
  },
  {
   "cell_type": "code",
   "execution_count": 13,
   "metadata": {},
   "outputs": [],
   "source": [
    "# 根据用车月份手动指定顺序，尝试过数字，英文，中文字设置自定义排序，均无法满足要求"
   ]
  },
  {
   "cell_type": "code",
   "execution_count": 14,
   "metadata": {},
   "outputs": [],
   "source": [
    "# se_order_month = pd.CategoricalDtype(['七月','八月','九月','十月','十一月','十二月','一月','二月','三月','四月','五月','六月'],ordered=True)"
   ]
  },
  {
   "cell_type": "code",
   "execution_count": 15,
   "metadata": {},
   "outputs": [],
   "source": [
    "# df_user_order_detail['book_month'].astype(se_order_month,inplace=True)"
   ]
  },
  {
   "cell_type": "code",
   "execution_count": 16,
   "metadata": {},
   "outputs": [],
   "source": [
    "# df_user_order_detail.sort_values('book_month',ascending=True)"
   ]
  },
  {
   "cell_type": "code",
   "execution_count": 218,
   "metadata": {},
   "outputs": [],
   "source": [
    "# def se_book_time_ordered(se):\n",
    "#     print(se)\n",
    "#     se_new = pd.concat(se.sort_index()[6:],se.sort_index()[:6])\n",
    "#     return se_new"
   ]
  },
  {
   "cell_type": "code",
   "execution_count": 385,
   "metadata": {},
   "outputs": [
    {
     "data": {
      "text/plain": [
       "<matplotlib.legend.Legend at 0x2a1758fd5c0>"
      ]
     },
     "execution_count": 385,
     "metadata": {},
     "output_type": "execute_result"
    },
    {
     "data": {
      "image/png": "[encoded data removed]",
      "text/plain": [
       "<Figure size 432x288 with 1 Axes>"
      ]
     },
     "metadata": {
      "needs_background": "light"
     },
     "output_type": "display_data"
    }
   ],
   "source": [
    "se_非当日用车笔数月份统计_用车日期顺序 = df_user_order_detail[df_user_order_detail['use_immediate']==0]['book_month'].value_counts()\n",
    "se_当日用车笔数月份统计_用车日期顺序 = df_user_order_detail[df_user_order_detail['use_immediate']==1]['book_month'].value_counts()\n",
    "y_0 = pd.concat([se_非当日用车笔数月份统计_用车日期顺序.sort_index()[6:],se_非当日用车笔数月份统计_用车日期顺序.sort_index()[:6]])\n",
    "y_1 = pd.concat([se_当日用车笔数月份统计_用车日期顺序.sort_index()[6:],se_当日用车笔数月份统计_用车日期顺序.sort_index()[:6]])\n",
    "y_2 = pd.concat([df_user_order_detail['book_month'].value_counts().sort_index()[6:],\n",
    "                df_user_order_detail['book_month'].value_counts().sort_index()[:6]])\n",
    "x1 = np.arange(1,13)\n",
    "x2 = x1+0.25\n",
    "plt.bar(x1,y_0,width=0.25,color='orange',tick_label=y_0.index.to_list(),label='非当日用车')\n",
    "plt.bar(x2,y_1,width=0.25,color='red',label='当日用车')\n",
    "plt.plot(x1,y_2,label='用车总数',color='purple')\n",
    "plt.xlabel('月份')\n",
    "plt.ylabel('订单数')\n",
    "plt.xticks(ticks=x1,labels=y_0.index.to_list(),rotation=0)\n",
    "plt.legend(bbox_to_anchor=(1,0),loc=3,borderaxespad=0)"
   ]
  },
  {
   "cell_type": "code",
   "execution_count": 343,
   "metadata": {},
   "outputs": [
    {
     "data": {
      "text/plain": [
       "0          送机\n",
       "1          接机\n",
       "2    城市交通（时租）\n",
       "3          送站\n",
       "4          接站\n",
       "Name: service_type_name, dtype: object"
      ]
     },
     "execution_count": 343,
     "metadata": {},
     "output_type": "execute_result"
    }
   ],
   "source": [
    "df_service_type_match_name = pd.read_csv(r'../input/car8865/服务类型数据.csv',usecols=['service_type','service_type_name'],\n",
    "                                         dtype={'servcie_type':int,'servcie_type_name':object})\n",
    "service_type_list = df_user_order_detail['service_type'].value_counts().index.to_list()\n",
    "service_type_name_list = df_service_type_match_name.query('service_type in @service_type_list').sort_values('service_type')['service_type_name']\n",
    "service_type_name_list"
   ]
  },
  {
   "cell_type": "code",
   "execution_count": 421,
   "metadata": {},
   "outputs": [],
   "source": [
    "df_service_type_each_month = df_user_order_detail.groupby(['service_type','order_month']).count()['trade_order_id']"
   ]
  },
  {
   "cell_type": "code",
   "execution_count": 437,
   "metadata": {},
   "outputs": [
    {
     "data": {
      "text/plain": [
       "<matplotlib.legend.Legend at 0x2a1767ebc88>"
      ]
     },
     "execution_count": 437,
     "metadata": {},
     "output_type": "execute_result"
    },
    {
     "data": {
      "image/png": "[encoded data removed]",
      "text/plain": [
       "<Figure size 1440x576 with 1 Axes>"
      ]
     },
     "metadata": {
      "needs_background": "light"
     },
     "output_type": "display_data"
    }
   ],
   "source": [
    "plt.figure(figsize=(20,8))\n",
    "x = np.arange(len(df_service_type_each_month.xs(1)))\n",
    "width = 0.14\n",
    "color_list = ['gold','red','navy','gray','brown']\n",
    "label_list = service_type_name_list\n",
    "for i,se_ind in enumerate(range(-2,3)):\n",
    "    rect1 = plt.bar(x+(width+0.02)*se_ind,df_service_type_each_month.xs((i+1)).values,width,label=label_list[i],color=color_list[i])\n",
    "plt.xticks(x,labels=df_service_type_each_month.xs(1).index)\n",
    "plt.ylabel('订单数')\n",
    "plt.legend(loc='best')"
   ]
  },
  {
   "cell_type": "markdown",
   "metadata": {},
   "source": [
    "##### 6,7,8月外，当日用车订单数有所下降（疑似天气转凉，市内用车需求下降所致）\n",
    "##### 1月送机和送站单数高于其他月份（春运？）\n",
    "##### 租车往来机场业务明显多于租车往来车站业务，而接机在所有订单类型中占比最高\n",
    "##### 备注：6月有订单正在进行中"
   ]
  },
  {
   "cell_type": "code",
   "execution_count": 159,
   "metadata": {},
   "outputs": [
    {
     "data": {
      "text/plain": [
       "['北京', '上海', '成都', '西安', '重庆', '广州', '三亚', '深圳', '杭州', '昆明']"
      ]
     },
     "execution_count": 159,
     "metadata": {},
     "output_type": "execute_result"
    }
   ],
   "source": [
    "list_order_city_top10 = df_user_order_detail['city_name'].value_counts().head(10).index.to_list()\n",
    "list_order_city_top10"
   ]
  },
  {
   "cell_type": "code",
   "execution_count": 443,
   "metadata": {},
   "outputs": [],
   "source": [
    "df_order_cities_each_type = df_user_order_detail.query('city_name in @list_order_city_top10').groupby(['service_type','city_name']).count()['trade_order_id']\n",
    "# df_order_cities_each_type\n",
    "df_service_kind_each_city = df_user_order_detail.query('city_name in @list_order_city_top10').groupby(['city_name','service_type']).count()['trade_order_id']\n",
    "# df_service_kind_each_city"
   ]
  },
  {
   "cell_type": "code",
   "execution_count": 444,
   "metadata": {},
   "outputs": [
    {
     "data": {
      "text/plain": [
       "<matplotlib.legend.Legend at 0x2a173a9d780>"
      ]
     },
     "execution_count": 444,
     "metadata": {},
     "output_type": "execute_result"
    },
    {
     "data": {
      "image/png": "[encoded data removed]",
      "text/plain": [
       "<Figure size 1440x576 with 1 Axes>"
      ]
     },
     "metadata": {
      "needs_background": "light"
     },
     "output_type": "display_data"
    }
   ],
   "source": [
    "plt.figure(figsize=(20,8))\n",
    "x = np.arange(len(df_order_cities_each_type.xs(1)))\n",
    "width = 0.14\n",
    "color_list = ['gold','red','navy','gray','brown']\n",
    "label_list = service_type_name_list\n",
    "for i,se_ind in enumerate(range(-2,3)):\n",
    "    rect1 = plt.bar(x+(width+0.02)*se_ind,df_order_cities_each_type.xs((i+1)).values,width,label=label_list[i],color=color_list[i])\n",
    "plt.xticks(x,labels=df_order_cities_each_type.xs(5).sort_index().index.to_list())\n",
    "plt.ylabel('订单数')\n",
    "plt.legend(loc='best')"
   ]
  },
  {
   "cell_type": "code",
   "execution_count": 462,
   "metadata": {},
   "outputs": [
    {
     "data": {
      "text/plain": [
       "北京    160\n",
       "重庆    114\n",
       "上海     88\n",
       "成都     69\n",
       "深圳     58\n",
       "广州     52\n",
       "杭州     50\n",
       "三亚     46\n",
       "昆明     35\n",
       "厦门     34\n",
       "Name: city_name, dtype: int64"
      ]
     },
     "execution_count": 462,
     "metadata": {},
     "output_type": "execute_result"
    }
   ],
   "source": [
    "df_user_order_detail[df_user_order_detail['service_type']==3]['city_name'].value_counts().head(10)     # 城市交通订车排名前十的城市"
   ]
  },
  {
   "cell_type": "code",
   "execution_count": 519,
   "metadata": {},
   "outputs": [
    {
     "data": {
      "text/plain": [
       "送机          12\n",
       "城市交通（时租）    12\n",
       "接机           7\n",
       "送站           3\n",
       "接站           1\n",
       "Name: service_type_name, dtype: int64"
      ]
     },
     "execution_count": 519,
     "metadata": {},
     "output_type": "execute_result"
    }
   ],
   "source": [
    "df_user_order_detail.query('city_name == \"昆明\" & (book_month == 7)')['service_type_name'].value_counts()"
   ]
  },
  {
   "cell_type": "code",
   "execution_count": 505,
   "metadata": {},
   "outputs": [
    {
     "data": {
      "text/plain": [
       "1     32\n",
       "2     31\n",
       "3     17\n",
       "4     25\n",
       "5     28\n",
       "6     31\n",
       "7     39\n",
       "8     31\n",
       "9     24\n",
       "10    32\n",
       "11    26\n",
       "12    21\n",
       "Name: book_month, dtype: int64"
      ]
     },
     "execution_count": 505,
     "metadata": {},
     "output_type": "execute_result"
    }
   ],
   "source": [
    "df_user_order_detail[df_user_order_detail['city_name']=='杭州']['book_month'].value_counts().sort_index()"
   ]
  },
  {
   "cell_type": "code",
   "execution_count": 473,
   "metadata": {},
   "outputs": [
    {
     "data": {
      "image/png": "[encoded data removed]",
      "text/plain": [
       "<Figure size 1440x1008 with 10 Axes>"
      ]
     },
     "metadata": {
      "needs_background": "light"
     },
     "output_type": "display_data"
    }
   ],
   "source": [
    "fig = plt.figure(figsize=(20,14))\n",
    "label_list = list_order_city_top10\n",
    "color_list = ['grey','lightskyblue','chocolate','goldenrod','orangered','firebrick','deepskyblue','blue','green','springgreen']\n",
    "ax = None\n",
    "for j,city in enumerate(list_order_city_top10):\n",
    "    if ax is None:\n",
    "        ax = fig.add_subplot(5,2,j+1)\n",
    "    else:\n",
    "        ax = fig.add_subplot(5,2,j+1,sharex=ax,sharey=ax)\n",
    "    x = df_service_type_each_month.xs(1).index.to_list()\n",
    "    y = df_user_order_detail[df_user_order_detail['city_name']==city]['book_month'].value_counts().sort_index()\n",
    "    plt.bar(x,y,color=color_list[j],label=label_list[j])\n",
    "    plt.xticks(x)\n",
    "    plt.ylabel('订单数')\n",
    "    plt.xlabel('月份')\n",
    "    plt.title(f'{city}订单数月份分布')"
   ]
  },
  {
   "cell_type": "markdown",
   "metadata": {},
   "source": [
    "##### 租车订单最多的城市top10分别是：北京, 上海, 成都, 西安, 重庆, 广州, 三亚, 深圳, 杭州, 昆明\n",
    "##### 截止订单最后日期，咸阳机场（西安），美兰机场/凤凰机场（三亚），萧山机场 （杭州）没有通地铁，新闻显示，此局面将在2021年结束，这些城市接送机订单将会有所缩减\n",
    "##### 三亚，西安的机场接送订单占比很高，而重庆的市内交通是所有订单的重要组成部分\n",
    "##### 三亚3月订单数明显多于其他月份，杭州3月单数则很少，其他城市订单数随月份变化相对较小"
   ]
  }
 ],
 "metadata": {
  "kernelspec": {
   "display_name": "Python 3",
   "language": "python",
   "name": "python3"
  },
  "language_info": {
   "codemirror_mode": {
    "name": "ipython",
    "version": 3
   },
   "file_extension": ".py",
   "mimetype": "text/x-python",
   "name": "python",
   "nbconvert_exporter": "python",
   "pygments_lexer": "ipython3",
   "version": "3.7.3"
  }
 },
 "nbformat": 4,
 "nbformat_minor": 2
}
